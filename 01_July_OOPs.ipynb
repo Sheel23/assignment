{
  "nbformat": 4,
  "nbformat_minor": 0,
  "metadata": {
    "colab": {
      "provenance": [],
      "authorship_tag": "ABX9TyNc9yC2knZ59wHIOjHbsDFk",
      "include_colab_link": true
    },
    "kernelspec": {
      "name": "python3",
      "display_name": "Python 3"
    },
    "language_info": {
      "name": "python"
    }
  },
  "cells": [
    {
      "cell_type": "markdown",
      "metadata": {
        "id": "view-in-github",
        "colab_type": "text"
      },
      "source": [
        "<a href=\"https://colab.research.google.com/github/Sheel23/assignment/blob/main/01_July_OOPs.ipynb\" target=\"_parent\"><img src=\"https://colab.research.google.com/assets/colab-badge.svg\" alt=\"Open In Colab\"/></a>"
      ]
    },
    {
      "cell_type": "markdown",
      "source": [
        "##Q1. What is the primary goal of Object-Oriented Programming (OOP)?"
      ],
      "metadata": {
        "id": "AiHvaWA5tTLq"
      }
    },
    {
      "cell_type": "markdown",
      "source": [
        "The primary goal of Object-Oriented Programming (OOP) is to provide a programming paradigm that allows for the organization and structuring of code in a way that models real-world objects and their interactions. OOP focuses on the concept of objects, which are instances of classes, and provides a set of principles and techniques to design and implement software systems.\n",
        "\n",
        "The main objectives of OOP include:\n",
        "\n",
        "Modularity: OOP promotes modularity by encapsulating data and behavior into objects. This allows for the creation of reusable and self-contained units of code, making it easier to manage and maintain complex systems.\n",
        "\n",
        "Abstraction: OOP encourages abstraction by defining classes that represent general concepts and hiding the underlying implementation details. This allows programmers to work at a higher level of abstraction, focusing on the essential features of an object rather than its internal workings.\n",
        "\n",
        "Inheritance: OOP supports inheritance, which enables the creation of new classes based on existing ones. Inheritance facilitates code reuse and promotes the organization of classes into hierarchies, where subclasses inherit characteristics from their parent classes while adding or modifying their own.\n",
        "\n",
        "Polymorphism: OOP facilitates polymorphism, which allows objects of different classes to be treated as instances of a common superclass. Polymorphism enables flexibility and extensibility in code, as it allows for the creation of code that can operate on objects of different types without needing to know their specific classes."
      ],
      "metadata": {
        "id": "mwTl_0eKtjVa"
      }
    },
    {
      "cell_type": "markdown",
      "source": [
        "##Q2.What is an object in Python?\n",
        "\n",
        "Answer:- In Python, an object is a fundamental concept in Object-Oriented Programming (OOP). It is an instance of a class and represents a specific entity or concept in a program.\n",
        "\n",
        "An object has two main components:\n",
        "\n",
        "State: The state of an object is defined by its attributes or properties, which are variables that store data associated with the object. Each object can have its own unique set of attribute values. In Python, these attributes are typically accessed using dot notation, such as object.attribute.\n",
        "\n",
        "Behavior: The behavior of an object is defined by its methods, which are functions that operate on the object's data. Methods are used to perform actions or computations related to the object. In Python, methods are called using dot notation as well, such as object.method().\n",
        "\n",
        "Objects in Python are created by instantiating a class, which serves as a blueprint or template for creating objects of a specific type. The process of creating an object from a class is called instantiation, and the resulting object is referred to as an instance of the class."
      ],
      "metadata": {
        "id": "7YbLhDvpttUH"
      }
    },
    {
      "cell_type": "code",
      "execution_count": 2,
      "metadata": {
        "id": "_3vE4o9FqBxH",
        "colab": {
          "base_uri": "https://localhost:8080/"
        },
        "outputId": "3008e766-96e9-4283-95a9-3de8575ada92"
      },
      "outputs": [
        {
          "output_type": "stream",
          "name": "stdout",
          "text": [
            "SATYA SHEEL\n",
            "Hello, my name is SATYA SHEEL\n"
          ]
        }
      ],
      "source": [
        "# Example\n",
        "# Define a class\n",
        "class Person:\n",
        "    def __init__(self, name):\n",
        "        self.name = name\n",
        "\n",
        "    def greet(self):\n",
        "        print(\"Hello, my name is\", self.name)\n",
        "\n",
        "# Create an object of the Person class\n",
        "person = Person(\"SATYA SHEEL\")\n",
        "\n",
        "# Access the object's attributes and call its methods\n",
        "print(person.name)\n",
        "person.greet()\n"
      ]
    },
    {
      "cell_type": "markdown",
      "source": [
        "##Q3. What is a class in Python?\n",
        "\n",
        "Answer:-\n",
        "In Python, a class is a blueprint or template for creating objects. It defines the structure and behavior that objects of that class should have. A class acts as a blueprint by encapsulating data (attributes) and functionality (methods) into a single entity.\n",
        "\n",
        "A class serves as a template that defines the attributes and methods that objects of that class will possess. It allows you to create multiple instances (objects) with similar characteristics and behaviors. The attributes are variables that store data specific to each object, while methods are functions that define the operations or actions that the objects can perform."
      ],
      "metadata": {
        "id": "jBOLbaJJuQD1"
      }
    },
    {
      "cell_type": "code",
      "source": [
        "#Example\n",
        "\n",
        "class Rectangle:\n",
        "    def __init__(self, width, height):\n",
        "        self.width = width\n",
        "        self.height = height\n",
        "\n",
        "    def area(self):\n",
        "        return self.width * self.height\n",
        "\n",
        "    def perimeter(self):\n",
        "        return 2 * (self.width + self.height)\n",
        "\n"
      ],
      "metadata": {
        "id": "jv5ikDYoqRnE"
      },
      "execution_count": 5,
      "outputs": []
    },
    {
      "cell_type": "code",
      "source": [
        "rectangle1 = Rectangle(4,5)\n",
        "rectangle2 = Rectangle(3,6)\n",
        ""
      ],
      "metadata": {
        "id": "b8767ynZqZv_"
      },
      "execution_count": 6,
      "outputs": []
    },
    {
      "cell_type": "code",
      "source": [
        "print(rectangle1.width)\n",
        "print(rectangle1.area())\n",
        "print(rectangle1.perimeter())"
      ],
      "metadata": {
        "colab": {
          "base_uri": "https://localhost:8080/"
        },
        "id": "7ZOpkvtjqpec",
        "outputId": "a2ae2868-63bd-41b1-9e5e-e7caffd1477a"
      },
      "execution_count": 13,
      "outputs": [
        {
          "output_type": "stream",
          "name": "stdout",
          "text": [
            "4\n",
            "20\n",
            "18\n"
          ]
        }
      ]
    },
    {
      "cell_type": "markdown",
      "source": [
        "##Q4. What are attributes and methods in a class?\n",
        "\n",
        "Answer:- In a class, attributes and methods define the characteristics and behaviors of the objects created from that class.\n",
        "\n",
        "Attributes:\n",
        "Attributes, also known as properties or instance variables, are variables that store data associated with each individual object (instance) of a class. They represent the state of the object. Each object can have its own set of attribute values, which can be unique to that specific object. Attributes can store various types of data, such as numbers, strings, lists, or even other objects.\n",
        "\n",
        "Attributes are defined within the class and are accessed using the dot notation (object.attribute) when referring to a specific object's attribute value. They can be accessed and modified directly or through special methods called getters and setters, which provide controlled access to the attribute."
      ],
      "metadata": {
        "id": "Bfw_um-uwKUZ"
      }
    },
    {
      "cell_type": "code",
      "source": [
        "# Example\n",
        "\n",
        "class Person:\n",
        "    def __init__(self, name, age):\n",
        "        self.name = name\n",
        "        self.age = age\n",
        "\n",
        "person1 = Person(\"Satya sheel\", 25)\n",
        "person2 = Person(\"Sameer\", 30)\n",
        "\n",
        "print(person1.name)\n",
        "print(person2.name)\n",
        "print(person1.age)\n",
        "print(person2.age)"
      ],
      "metadata": {
        "id": "lNo95936qtd0",
        "colab": {
          "base_uri": "https://localhost:8080/"
        },
        "outputId": "75b93569-954f-4cb7-cc05-11815cd93769"
      },
      "execution_count": 16,
      "outputs": [
        {
          "output_type": "stream",
          "name": "stdout",
          "text": [
            "Satya sheel\n",
            "Sameer\n",
            "25\n",
            "30\n"
          ]
        }
      ]
    },
    {
      "cell_type": "markdown",
      "source": [
        "#Q5. What is the difference between class variables and instance variables in Python?\n",
        "\n",
        "Answer:-\n",
        "\n",
        "\n",
        "Class Variables:\n",
        "Class variables are variables that are shared among all instances (objects) of a class. They are defined within the class but outside any methods or constructors. Class variables are associated with the class itself rather than individual instances. They are typically used to store data or state that is common to all objects of the class.\n",
        "\n",
        "\n",
        "Instance Variables:\n",
        "Instance variables, also known as instance attributes or object variables, are variables that are specific to each individual instance (object) of a class. They are defined within the class constructor (__init__ method) or other instance methods. Instance variables represent the unique state or data associated with each object.\n",
        "\n",
        "\n",
        "\n"
      ],
      "metadata": {
        "id": "9HwiBkwEw9RM"
      }
    },
    {
      "cell_type": "code",
      "source": [
        "# Example of class Variable\n",
        "class Circle:\n",
        "    pi = 3.14159   # Class variable\n",
        "\n",
        "    def __init__(self, radius):\n",
        "        self.radius = radius   # Instance variable\n",
        "\n",
        "circle1 = Circle(5)\n",
        "circle2 = Circle(3)\n",
        "\n",
        "print(circle1.radius)\n",
        "print(circle2.radius)\n",
        "\n",
        "print(circle1.pi)\n",
        "print(circle2.pi)\n"
      ],
      "metadata": {
        "colab": {
          "base_uri": "https://localhost:8080/"
        },
        "id": "3BU01Z-0rWMK",
        "outputId": "cf725676-4fa7-4f60-f96e-284b97f6feb1"
      },
      "execution_count": 17,
      "outputs": [
        {
          "output_type": "stream",
          "name": "stdout",
          "text": [
            "5\n",
            "3\n",
            "3.14159\n",
            "3.14159\n"
          ]
        }
      ]
    },
    {
      "cell_type": "markdown",
      "source": [
        "The key differences between class variables and instance variables are as follows:\n",
        "\n",
        "Scope: Class variables are shared among all instances of a class and have class-level scope, meaning they can be accessed through the class itself or any instance of the class. Instance variables, on the other hand, are specific to each instance and have instance-level scope, meaning they are accessible only within the context of the specific instance.\n",
        "\n",
        "Data Storage: Class variables are stored in a class-specific memory location and are shared among all instances. Instance variables are stored in memory associated with each individual object.\n",
        "\n",
        "Mutability: Class variables can be modified directly through the class or any instance, affecting all instances. Instance variables can be modified independently, affecting only the specific instance they belong to."
      ],
      "metadata": {
        "id": "ks41v_oDzA97"
      }
    },
    {
      "cell_type": "markdown",
      "source": [
        "##Q6. What is the purpose of the self parameter in Python class methods?\n",
        "\n",
        "Answer:-\n",
        "\n",
        "In Python class methods, the self parameter is a convention used to refer to the instance (object) on which the method is being called. It acts as a reference to the specific instance of the class and allows the method to access and manipulate the object's attributes and other methods.\n",
        "\n",
        "The self parameter is the first parameter of instance methods in Python. Although you can choose any name for this parameter, it is a widely followed convention to name it self for clarity and readability.\n",
        "\n",
        "When a method is called on an object, the object itself is automatically passed as the self argument to the method. This allows the method to have access to the object's attributes and call other methods within the class."
      ],
      "metadata": {
        "id": "pc8qMkHVzGBl"
      }
    },
    {
      "cell_type": "code",
      "source": [
        "# Example\n",
        "\n",
        "class Circle:\n",
        "    def __init__(self, radius):\n",
        "        self.radius = radius\n",
        "\n",
        "    def calculate_area(self):\n",
        "        area = 3.14159 * self.radius ** 2\n",
        "        return area\n",
        "\n",
        "circle = Circle(5)\n",
        "print(circle.calculate_area())\n"
      ],
      "metadata": {
        "id": "zNXt6nY7rYi9",
        "colab": {
          "base_uri": "https://localhost:8080/"
        },
        "outputId": "a05fb2ca-37a4-41d7-cf1f-81dc1554d222"
      },
      "execution_count": 19,
      "outputs": [
        {
          "output_type": "stream",
          "name": "stdout",
          "text": [
            "78.53975\n"
          ]
        }
      ]
    },
    {
      "cell_type": "markdown",
      "source": [
        "##Q7. For a library management system, you have to design the \"Book\" class with OOP\n",
        "principles in mind. The “Book” class will have following attributes:\n",
        "\n",
        "a. title: Represents the title of the book.\n",
        "\n",
        "b. author: Represents the author(s) of the book.\n",
        "\n",
        "c. isbn: Represents the ISBN (International Standard Book Number) of the book.\n",
        "\n",
        "d. publication_year: Represents the year of publication of the book.\n",
        "\n",
        "e. available_copies: Represents the number of copies available for checkout.\n",
        "\n",
        "The class will also include the following methods:\n",
        "\n",
        "a. check_out(self): Decrements the available copies by one if there are copies\n",
        "available for checkout.\n",
        "\n",
        "b. return_book(self): Increments the available copies by one when a book is\n",
        "returned.\n",
        "\n",
        "c. display_book_info(self): Displays the information about the book, including its attributes and the number of available copies."
      ],
      "metadata": {
        "id": "ksA2kfB80SIt"
      }
    },
    {
      "cell_type": "code",
      "source": [
        "class Book:\n",
        "    def __init__(self, title, author, isbn, publication_year, available_copies):\n",
        "        self.title = title\n",
        "        self.author = author\n",
        "        self.isbn = isbn\n",
        "        self.publication_year = publication_year\n",
        "        self.available_copies = available_copies\n",
        "\n",
        "    def check_out(self):\n",
        "        if self.available_copies > 0:\n",
        "            self.available_copies -= 1\n",
        "            print(f\"Book '{self.title}' checked out successfully.\")\n",
        "        else:\n",
        "            print(f\"Book '{self.title}' is currently not available for checkout.\")\n",
        "\n",
        "    def return_book(self):\n",
        "        self.available_copies += 1\n",
        "        print(f\"Book '{self.title}' returned successfully.\")\n",
        "\n",
        "    def display_book_info(self):\n",
        "        print(\"Book Information:\")\n",
        "        print(f\"Title: {self.title}\")\n",
        "        print(f\"Author(s): {self.author}\")\n",
        "        print(f\"ISBN: {self.isbn}\")\n",
        "        print(f\"Publication Year: {self.publication_year}\")\n",
        "        print(f\"Available Copies: {self.available_copies}\")\n",
        "\n",
        "\n"
      ],
      "metadata": {
        "id": "vKbEp8Qrrn_k"
      },
      "execution_count": 21,
      "outputs": []
    },
    {
      "cell_type": "code",
      "source": [
        "# Example usage\n",
        "book1 = Book(\"Godaan\", \"F.Premchand ji \", \"9780743273565\", 1936, 3)\n",
        "book1.display_book_info()\n",
        "\n",
        "book1.check_out()\n",
        "book1.check_out()\n",
        "book1.check_out()\n",
        "book1.check_out()\n",
        "\n",
        "book1.return_book()\n",
        "book1.return_book()\n",
        "book1.display_book_info()\n"
      ],
      "metadata": {
        "colab": {
          "base_uri": "https://localhost:8080/"
        },
        "id": "MiTALqFNr0jO",
        "outputId": "cb7eaa27-dbd9-4a9e-f449-22ea39879dce"
      },
      "execution_count": 22,
      "outputs": [
        {
          "output_type": "stream",
          "name": "stdout",
          "text": [
            "Book Information:\n",
            "Title: Godaan\n",
            "Author(s): F.Premchand ji \n",
            "ISBN: 9780743273565\n",
            "Publication Year: 1936\n",
            "Available Copies: 3\n",
            "Book 'Godaan' checked out successfully.\n",
            "Book 'Godaan' checked out successfully.\n",
            "Book 'Godaan' checked out successfully.\n",
            "Book 'Godaan' is currently not available for checkout.\n",
            "Book 'Godaan' returned successfully.\n",
            "Book 'Godaan' returned successfully.\n",
            "Book Information:\n",
            "Title: Godaan\n",
            "Author(s): F.Premchand ji \n",
            "ISBN: 9780743273565\n",
            "Publication Year: 1936\n",
            "Available Copies: 2\n",
            "Book Information:\n",
            "Title: Godaan\n",
            "Author(s): F.Premchand ji \n",
            "ISBN: 9780743273565\n",
            "Publication Year: 1936\n",
            "Available Copies: 3\n",
            "Book 'Godaan' checked out successfully.\n",
            "Book 'Godaan' checked out successfully.\n",
            "Book 'Godaan' checked out successfully.\n",
            "Book 'Godaan' is currently not available for checkout.\n",
            "Book 'Godaan' returned successfully.\n",
            "Book 'Godaan' returned successfully.\n",
            "Book Information:\n",
            "Title: Godaan\n",
            "Author(s): F.Premchand ji \n",
            "ISBN: 9780743273565\n",
            "Publication Year: 1936\n",
            "Available Copies: 2\n"
          ]
        }
      ]
    },
    {
      "cell_type": "code",
      "source": [
        "# Example usage\n",
        "book2 = Book(\"Gaban\", \"F.Premchand ji \", \"9780743273565\", 1928, 3)\n",
        "book2.display_book_info()\n",
        "\n",
        "book2.check_out()\n",
        "book2.check_out()\n",
        "book2.check_out()\n",
        "book2.check_out()\n",
        "\n",
        "book2.return_book()\n",
        "book2.return_book()\n",
        "book2.display_book_info()"
      ],
      "metadata": {
        "id": "uc4Pa3cJr9qs",
        "colab": {
          "base_uri": "https://localhost:8080/"
        },
        "outputId": "a28bd88d-818c-4f62-c91e-905381d48a23"
      },
      "execution_count": 24,
      "outputs": [
        {
          "output_type": "stream",
          "name": "stdout",
          "text": [
            "Book Information:\n",
            "Title: Gaban\n",
            "Author(s): F.Premchand ji \n",
            "ISBN: 9780743273565\n",
            "Publication Year: 1928\n",
            "Available Copies: 3\n",
            "Book 'Gaban' checked out successfully.\n",
            "Book 'Gaban' checked out successfully.\n",
            "Book 'Gaban' checked out successfully.\n",
            "Book 'Gaban' is currently not available for checkout.\n",
            "Book 'Gaban' returned successfully.\n",
            "Book 'Gaban' returned successfully.\n",
            "Book Information:\n",
            "Title: Gaban\n",
            "Author(s): F.Premchand ji \n",
            "ISBN: 9780743273565\n",
            "Publication Year: 1928\n",
            "Available Copies: 2\n"
          ]
        }
      ]
    },
    {
      "cell_type": "markdown",
      "source": [
        "##Q8. For a ticket booking system, you have to design the \"Ticket\" class with OOP\n",
        "principles in mind. The “Ticket” class should have the following attributes:\n",
        "\n",
        "a. ticket_id: Represents the unique identifier for the ticket.\n",
        "\n",
        "b. event_name: Represents the name of the event.\n",
        "\n",
        "c. event_date: Represents the date of the event.\n",
        "\n",
        "d. venue: Represents the venue of the event.\n",
        "\n",
        "e. seat_number: Represents the seat number associated with the ticket.\n",
        "\n",
        "f. price: Represents the price of the ticket.\n",
        "\n",
        "g. is_reserved: Represents the reservation status of the ticket.\n",
        "\n",
        "The class also includes the following methods:\n",
        "\n",
        "a. reserve_ticket(self): Marks the ticket as reserved if it is not already reserved.\n",
        "\n",
        "b. cancel_reservation(self): Cancels the reservation of the ticket if it is already reserved.\n",
        "\n",
        "c. display_ticket_info(self): Displays the information about the ticket, including its attributes and reservation status."
      ],
      "metadata": {
        "id": "2_UjNsQM89WM"
      }
    },
    {
      "cell_type": "code",
      "source": [
        "class Ticket:\n",
        "    def __init__(self, ticket_id, event_name, event_date, venue, seat_number, price):\n",
        "        self.ticket_id = ticket_id\n",
        "        self.event_name = event_name\n",
        "        self.event_date = event_date\n",
        "        self.venue = venue\n",
        "        self.seat_number = seat_number\n",
        "        self.price = price\n",
        "        self.is_reserved = False\n",
        "\n",
        "    def reserve_ticket(self):\n",
        "        if not self.is_reserved:\n",
        "            self.is_reserved = True\n",
        "            print(\"Ticket reserved successfully.\")\n",
        "        else:\n",
        "            print(\"Ticket is already reserved.\")\n",
        "\n",
        "    def cancel_reservation(self):\n",
        "        if self.is_reserved:\n",
        "            self.is_reserved = False\n",
        "            print(\"Reservation canceled successfully.\")\n",
        "        else:\n",
        "            print(\"Ticket is not reserved.\")\n",
        "\n",
        "    def display_ticket_info(self):\n",
        "        print(\"Ticket Information:\")\n",
        "        print(f\"Ticket ID: {self.ticket_id}\")\n",
        "        print(f\"Event Name: {self.event_name}\")\n",
        "        print(f\"Event Date: {self.event_date}\")\n",
        "        print(f\"Venue: {self.venue}\")\n",
        "        print(f\"Seat Number: {self.seat_number}\")\n",
        "        print(f\"Price: {self.price}\")\n",
        "        print(f\"Reservation Status: {'Reserved' if self.is_reserved else 'Not Reserved'}\")\n",
        "\n",
        "\n"
      ],
      "metadata": {
        "id": "I0UfUdGt8xCx"
      },
      "execution_count": 27,
      "outputs": []
    },
    {
      "cell_type": "code",
      "source": [
        "# Example usage\n",
        "ticket1 = Ticket(\"T236598\", \"Cricket Match\", \"2023-07-15\", \"Arun jaitley Stadium\", \"A12\", 1500.0)\n",
        "ticket1.display_ticket_info()\n",
        "\n",
        "ticket1.reserve_ticket()\n",
        "ticket1.reserve_ticket()\n",
        "\n",
        "ticket1.cancel_reservation()\n",
        "ticket1.cancel_reservation()\n",
        "\n",
        "ticket1.display_ticket_info()\n"
      ],
      "metadata": {
        "colab": {
          "base_uri": "https://localhost:8080/"
        },
        "id": "En6hRbLd9grw",
        "outputId": "721770c9-e28a-41b5-c18d-13308f85ecb8"
      },
      "execution_count": 28,
      "outputs": [
        {
          "output_type": "stream",
          "name": "stdout",
          "text": [
            "Ticket Information:\n",
            "Ticket ID: T236598\n",
            "Event Name: Cricket Match\n",
            "Event Date: 2023-07-15\n",
            "Venue: Arun jaitley Stadium\n",
            "Seat Number: A12\n",
            "Price: 1500.0\n",
            "Reservation Status: Not Reserved\n",
            "Ticket reserved successfully.\n",
            "Ticket is already reserved.\n",
            "Reservation canceled successfully.\n",
            "Ticket is not reserved.\n",
            "Ticket Information:\n",
            "Ticket ID: T236598\n",
            "Event Name: Cricket Match\n",
            "Event Date: 2023-07-15\n",
            "Venue: Arun jaitley Stadium\n",
            "Seat Number: A12\n",
            "Price: 1500.0\n",
            "Reservation Status: Not Reserved\n"
          ]
        }
      ]
    },
    {
      "cell_type": "code",
      "source": [
        "# Example usage\n",
        "ticket1 = Ticket(\"T2365\", \" Hockey Match\", \"2023-07-20\", \"chinnaswamy stadium\", \"A32\", 3500.0)\n",
        "ticket1.display_ticket_info()\n",
        "\n",
        "ticket1.reserve_ticket()\n",
        "ticket1.reserve_ticket()\n",
        "\n",
        "ticket1.cancel_reservation()\n",
        "ticket1.cancel_reservation()\n",
        "\n",
        "ticket1.display_ticket_info()\n"
      ],
      "metadata": {
        "colab": {
          "base_uri": "https://localhost:8080/"
        },
        "id": "3buPM-DE-NJP",
        "outputId": "ab28e8ce-ac5a-4911-9b17-d64dc70a3a39"
      },
      "execution_count": 29,
      "outputs": [
        {
          "output_type": "stream",
          "name": "stdout",
          "text": [
            "Ticket Information:\n",
            "Ticket ID: T2365\n",
            "Event Name:  Hockey Match\n",
            "Event Date: 2023-07-20\n",
            "Venue: chinnaswamy stadium\n",
            "Seat Number: A32\n",
            "Price: 3500.0\n",
            "Reservation Status: Not Reserved\n",
            "Ticket reserved successfully.\n",
            "Ticket is already reserved.\n",
            "Reservation canceled successfully.\n",
            "Ticket is not reserved.\n",
            "Ticket Information:\n",
            "Ticket ID: T2365\n",
            "Event Name:  Hockey Match\n",
            "Event Date: 2023-07-20\n",
            "Venue: chinnaswamy stadium\n",
            "Seat Number: A32\n",
            "Price: 3500.0\n",
            "Reservation Status: Not Reserved\n"
          ]
        }
      ]
    },
    {
      "cell_type": "markdown",
      "source": [
        "##Q9. You are creating a shopping cart for an e-commerce website. Using OOP to model\n",
        "the \"ShoppingCart\" functionality the class should contain following attributes and methods:\n",
        "\n",
        "a. items: Represents the list of items in the shopping cart.\n",
        "\n",
        "The class also includes the following methods:\n",
        "\n",
        "a. add_item(self, item): Adds an item to the shopping cart by appending it to the list of items.\n",
        "\n",
        "b. remove_item(self, item): Removes an item from the shopping cart if it exists in the list.\n",
        "\n",
        "c. view_cart(self): Displays the items currently present in the shopping cart.\n",
        "\n",
        "d. clear_cart(self): Clears all items from the shopping cart by reassigning an\n",
        "empty list to the items attribute."
      ],
      "metadata": {
        "id": "_ACeEFv7_FP3"
      }
    },
    {
      "cell_type": "code",
      "source": [
        "class ShoppingCart:\n",
        "    def __init__(self):\n",
        "        self.items = []\n",
        "\n",
        "    def add_item(self, item):\n",
        "        self.items.append(item)\n",
        "        print(f\"Item '{item}' added to the shopping cart.\")\n",
        "\n",
        "    def remove_item(self, item):\n",
        "        if item in self.items:\n",
        "            self.items.remove(item)\n",
        "            print(f\"Item '{item}' removed from the shopping cart.\")\n",
        "        else:\n",
        "            print(f\"Item '{item}' not found in the shopping cart.\")\n",
        "\n",
        "    def view_cart(self):\n",
        "        if self.items:\n",
        "            print(\"Items in the shopping cart:\")\n",
        "            for item in self.items:\n",
        "                print(item)\n",
        "        else:\n",
        "            print(\"The shopping cart is empty.\")\n",
        "\n",
        "    def clear_cart(self):\n",
        "        self.items = []\n",
        "        print(\"The shopping cart has been cleared.\")\n",
        "\n",
        "\n",
        "\n"
      ],
      "metadata": {
        "id": "RUNk62So-kEX"
      },
      "execution_count": 30,
      "outputs": []
    },
    {
      "cell_type": "code",
      "source": [
        "# Example usage\n",
        "cart = ShoppingCart()\n",
        "\n",
        "cart.add_item(\"Laptop\")\n",
        "cart.add_item(\"Headphones\")\n",
        "cart.add_item(\"Mobile Phone\")\n",
        "cart.add_item(\"Mouse\")\n",
        "cart.view_cart()\n",
        "\n",
        "cart.remove_item(\"Headphones\")\n",
        "cart.remove_item(\"Keyboard\")\n",
        "cart.view_cart()\n",
        "\n",
        "cart.clear_cart()\n",
        "cart.view_cart()"
      ],
      "metadata": {
        "colab": {
          "base_uri": "https://localhost:8080/"
        },
        "id": "3T4pjnoc_q3K",
        "outputId": "79e05a93-7092-4ae6-ce37-2190ffedb972"
      },
      "execution_count": 31,
      "outputs": [
        {
          "output_type": "stream",
          "name": "stdout",
          "text": [
            "Item 'Laptop' added to the shopping cart.\n",
            "Item 'Headphones' added to the shopping cart.\n",
            "Item 'Mobile Phone' added to the shopping cart.\n",
            "Item 'Mouse' added to the shopping cart.\n",
            "Items in the shopping cart:\n",
            "Laptop\n",
            "Headphones\n",
            "Mobile Phone\n",
            "Mouse\n",
            "Item 'Headphones' removed from the shopping cart.\n",
            "Item 'Keyboard' not found in the shopping cart.\n",
            "Items in the shopping cart:\n",
            "Laptop\n",
            "Mobile Phone\n",
            "Mouse\n",
            "The shopping cart has been cleared.\n",
            "The shopping cart is empty.\n"
          ]
        }
      ]
    },
    {
      "cell_type": "markdown",
      "source": [
        "##Q10. Imagine a school management system. You have to design the \"Student\" class using\n",
        "OOP concepts.The “Student” class has the following attributes:\n",
        "\n",
        "a. name: Represents the name of the student.\n",
        "\n",
        "b. age: Represents the age of the student.\n",
        "\n",
        "c. grade: Represents the grade or class of the student.\n",
        "\n",
        "d. student_id: Represents the unique identifier for the student.\n",
        "\n",
        "e. attendance: Represents the attendance record of the student.\n",
        "\n",
        "The class should also include the following methods:\n",
        "\n",
        "a. update_attendance(self, date, status): Updates the attendance record of the\n",
        "student for a given date with the provided status (e.g., present or absent).\n",
        "\n",
        "b. get_attendance(self): Returns the attendance record of the student.\n",
        "\n",
        "c. get_average_attendance(self): Calculates and returns the average\n",
        "attendance percentage of the student based on their attendance record."
      ],
      "metadata": {
        "id": "bkyT-ZOcAWS8"
      }
    },
    {
      "cell_type": "code",
      "source": [
        "class Student:\n",
        "    def __init__(self, name, age, grade, student_id):\n",
        "        self.name = name\n",
        "        self.age = age\n",
        "        self.grade = grade\n",
        "        self.student_id = student_id\n",
        "        self.attendance = {}\n",
        "\n",
        "    def update_attendance(self, date, status):\n",
        "        self.attendance[date] = status\n",
        "\n",
        "    def get_attendance(self):\n",
        "        return self.attendance\n",
        "\n",
        "    def get_average_attendance(self):\n",
        "        total_days = len(self.attendance)\n",
        "        present_days = sum(status == 'present' for status in self.attendance.values())\n",
        "        average_attendance = (present_days / total_days) * 100 if total_days > 0 else 0\n",
        "        return average_attendance\n",
        "\n",
        "\n"
      ],
      "metadata": {
        "id": "kytnkoABAD8Q"
      },
      "execution_count": 32,
      "outputs": []
    },
    {
      "cell_type": "code",
      "source": [
        "\n",
        "# Example usage\n",
        "student1 = Student(\"Satya sheel\", 15, 10, \"S001\")\n",
        "student1.update_attendance(\"2023-07-01\", \"present\")\n",
        "student1.update_attendance(\"2023-07-02\", \"absent\")\n",
        "student1.update_attendance(\"2023-07-03\", \"present\")\n",
        "\n",
        "attendance_record = student1.get_attendance()\n",
        "print(\"Attendance Record:\", attendance_record)\n",
        "\n",
        "average_attendance = student1.get_average_attendance()\n",
        "print(\"Average Attendance:\", average_attendance)"
      ],
      "metadata": {
        "colab": {
          "base_uri": "https://localhost:8080/"
        },
        "id": "PaRBnH0PArJD",
        "outputId": "2dea841d-1b7d-439e-bd7f-8aa22710474e"
      },
      "execution_count": 33,
      "outputs": [
        {
          "output_type": "stream",
          "name": "stdout",
          "text": [
            "Attendance Record: {'2023-07-01': 'present', '2023-07-02': 'absent', '2023-07-03': 'present'}\n",
            "Average Attendance: 66.66666666666666\n"
          ]
        }
      ]
    },
    {
      "cell_type": "code",
      "source": [],
      "metadata": {
        "id": "_DiaCV7YBNWl"
      },
      "execution_count": null,
      "outputs": []
    }
  ]
}
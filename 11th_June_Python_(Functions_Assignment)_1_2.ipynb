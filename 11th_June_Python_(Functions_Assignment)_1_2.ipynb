{
  "nbformat": 4,
  "nbformat_minor": 0,
  "metadata": {
    "colab": {
      "provenance": [],
      "authorship_tag": "ABX9TyOugD/R4EYLrn1rmWzy+Dz9",
      "include_colab_link": true
    },
    "kernelspec": {
      "name": "python3",
      "display_name": "Python 3"
    },
    "language_info": {
      "name": "python"
    }
  },
  "cells": [
    {
      "cell_type": "markdown",
      "metadata": {
        "id": "view-in-github",
        "colab_type": "text"
      },
      "source": [
        "<a href=\"https://colab.research.google.com/github/Sheel23/assignment/blob/main/11th_June_Python_(Functions_Assignment)_1_2.ipynb\" target=\"_parent\"><img src=\"https://colab.research.google.com/assets/colab-badge.svg\" alt=\"Open In Colab\"/></a>"
      ]
    },
    {
      "cell_type": "markdown",
      "source": [
        "##Q.1. What is a lambda function in Python, and how does it differ from a regular function?\n",
        "\n",
        "a lambda function, also known as an anonymous function, is a small, single-line function that does not have a name. It is defined using the lambda keyword, followed by a list of arguments, a colon, and an expression.\n",
        "\n",
        "lambda arguments: expression\n",
        "\n",
        "Lambda functions are typically used when you need a simple function for a short period of time, often as an argument to higher-order functions (functions that take other functions as arguments). Here are some key differences between lambda functions and regular functions:\n",
        "\n",
        "Syntax: Lambda functions have a compact syntax, consisting of a single line. They are defined using the lambda keyword, while regular functions use the def keyword.\n",
        "\n",
        "Name: Lambda functions do not have a name. They are anonymous and are not bound to any identifier. Regular functions, on the other hand, have a name and can be referenced using that name.\n",
        "\n",
        "Function Body: Lambda functions can only contain a single expression, which is evaluated and returned when the function is called. Regular functions can have multiple statements and a function body, which can consist of multiple lines of code.\n",
        "\n",
        "Scope: Lambda functions are defined within the scope where they are created. They can access variables from the surrounding scope (including global variables) like regular functions. However, lambda functions are limited to the expression they contain and cannot include statements like if, for, or while."
      ],
      "metadata": {
        "id": "x2D2QFRbNl2s"
      }
    },
    {
      "cell_type": "code",
      "source": [
        "#example of lambda function\n",
        "# Regular function\n",
        "def square(x):\n",
        "    return x**2\n",
        "\n",
        "print(square(5))\n",
        "\n",
        "# Lambda function\n",
        "lambda_square = lambda x: x**2\n",
        "\n",
        "print(lambda_square(5))\n"
      ],
      "metadata": {
        "colab": {
          "base_uri": "https://localhost:8080/"
        },
        "id": "x-caKdnQOO8s",
        "outputId": "31ddb8e9-c87c-429a-8a20-cba579331bc8"
      },
      "execution_count": 1,
      "outputs": [
        {
          "output_type": "stream",
          "name": "stdout",
          "text": [
            "25\n",
            "25\n"
          ]
        }
      ]
    },
    {
      "cell_type": "markdown",
      "source": [
        "##Q.2. Can a lambda function in Python have multiple arguments? If yes, how can you define and use them?\n",
        "\n",
        "Yes, a lambda function in Python can have multiple arguments. You can define and use multiple arguments in a lambda function by separating them with commas in the argument list.\n",
        "\n",
        "\n"
      ],
      "metadata": {
        "id": "P4lmWndpNlzH"
      }
    },
    {
      "cell_type": "code",
      "execution_count": 2,
      "metadata": {
        "colab": {
          "base_uri": "https://localhost:8080/"
        },
        "id": "sZx5M_4XNV1K",
        "outputId": "e2384f09-8fb5-4ebb-afcd-cb4690288ed8"
      },
      "outputs": [
        {
          "output_type": "stream",
          "name": "stdout",
          "text": [
            "8\n"
          ]
        }
      ],
      "source": [
        "# Lambda function with multiple arguments\n",
        "add_numbers = lambda x, y: x + y\n",
        "\n",
        "result = add_numbers(3, 5)\n",
        "print(result)"
      ]
    },
    {
      "cell_type": "markdown",
      "source": [
        "the lambda function add_numbers takes two arguments, x and y, and returns their sum. When the lambda function is called with arguments 3 and 5, it returns the result 8. The comma between the arguments x and y separates them within the lambda function's argument list."
      ],
      "metadata": {
        "id": "gbJl0QnPP_4C"
      }
    },
    {
      "cell_type": "code",
      "source": [
        "my_function = lambda arg1, arg2, arg3:\n",
        "# function body\n"
      ],
      "metadata": {
        "colab": {
          "base_uri": "https://localhost:8080/",
          "height": 130
        },
        "id": "4NHQbNlGP5Ty",
        "outputId": "b2a70da6-e1a0-4efb-b36d-7b40c12cdc9c"
      },
      "execution_count": 4,
      "outputs": [
        {
          "output_type": "error",
          "ename": "SyntaxError",
          "evalue": "ignored",
          "traceback": [
            "\u001b[0;36m  File \u001b[0;32m\"<ipython-input-4-6744eab43d40>\"\u001b[0;36m, line \u001b[0;32m1\u001b[0m\n\u001b[0;31m    my_function = lambda arg1, arg2, arg3:\u001b[0m\n\u001b[0m                                          ^\u001b[0m\n\u001b[0;31mSyntaxError\u001b[0m\u001b[0;31m:\u001b[0m invalid syntax\n"
          ]
        }
      ]
    },
    {
      "cell_type": "markdown",
      "source": [
        "##Q.3. How are lambda functions typically used in Python? Provide an example use case.\n",
        "\n",
        "Lambda functions in Python are typically used in situations where a small, anonymous function is needed for a short period of time. They are often used as arguments to higher-order functions like map(), filter(), and reduce(), or in situations where a function is required as a parameter.\n",
        "\n",
        "One common use case for lambda functions is in sorting. The built-in sorted() function accepts a key parameter that allows you to specify a function to extract a comparison key from each element. Lambda functions are commonly used to define these key functions on the fly."
      ],
      "metadata": {
        "id": "fVFHxaV4R-Vj"
      }
    },
    {
      "cell_type": "code",
      "source": [
        "#Example\n",
        "people = [\n",
        "    {'name': 'Alice', 'age': 25},\n",
        "    {'name': 'Bob', 'age': 30},\n",
        "    {'name': 'Charlie', 'age': 20}\n",
        "]\n",
        "sorted_people = sorted(people, key=lambda x: x['age'])\n",
        "\n",
        "print(sorted_people)\n",
        "\n",
        "\n"
      ],
      "metadata": {
        "colab": {
          "base_uri": "https://localhost:8080/"
        },
        "id": "J0eHUBaLQKv3",
        "outputId": "b268ed63-09cd-42cc-b734-951897de5f1f"
      },
      "execution_count": 5,
      "outputs": [
        {
          "output_type": "stream",
          "name": "stdout",
          "text": [
            "[{'name': 'Charlie', 'age': 20}, {'name': 'Alice', 'age': 25}, {'name': 'Bob', 'age': 30}]\n"
          ]
        }
      ]
    },
    {
      "cell_type": "markdown",
      "source": [
        "##Q.4. What are the advantages and limitations of lambda functions compared to regular functions in Python?\n",
        "\n",
        "Lambda functions in Python have several advantages over regular functions in certain contexts, but they also come with some limitations. Here are the advantages and limitations of lambda functions compared to regular functions:\n",
        "\n",
        "Advantages of lambda functions:\n",
        "\n",
        "Concise syntax: Lambda functions have a compact syntax, allowing you to define simple functions in a single line. This can make your code more readable and reduce the need for defining separate named functions for small, short-lived functionality.\n",
        "\n",
        "Anonymous: Lambda functions are anonymous, meaning they do not require a name. This is useful when you need a function for a specific task but do not want to clutter your code with unnecessary function definitions.\n",
        "\n",
        "Higher-order functions: Lambda functions are often used as arguments to higher-order functions like map(), filter(), and reduce(). They provide a convenient way to pass small function expressions directly as arguments without the need to define separate named functions.\n",
        "\n",
        "Limitations of lambda functions:\n",
        "\n",
        "Single expression: Lambda functions are limited to a single expression. They cannot contain statements or multiple lines of code. This makes them unsuitable for complex or multi-step computations that require multiple statements or control flow structures.\n",
        "\n",
        "No statements: Lambda functions cannot include statements like if, for, or while. They can only contain an expression that is evaluated and returned as the result of the function. This limits their ability to perform more complex tasks.\n",
        "\n",
        "Limited readability: While lambda functions can make code more concise, they can also make it less readable when used for complex or longer expressions. Long and complex lambda functions can be difficult to understand and maintain, reducing code readability.\n",
        "\n",
        "Lack of reusability: Lambda functions are not designed for reuse. Since they are anonymous and lack a name, they cannot be referenced or reused elsewhere in the code. If you need to reuse a function in multiple places, a regular named function is more appropriate."
      ],
      "metadata": {
        "id": "9ElKvT7OTeKg"
      }
    },
    {
      "cell_type": "markdown",
      "source": [
        "##Q.5. Are lambda functions in Python able to access variables defined outside of their own scope? Explain with an example.\n",
        "\n",
        "Yes, lambda functions in Python are able to access variables defined outside of their own scope. They have access to variables from the surrounding scope, including global variables and variables defined in the enclosing function.\n"
      ],
      "metadata": {
        "id": "y-bBD70IU56F"
      }
    },
    {
      "cell_type": "code",
      "source": [
        "#example\n",
        "\n",
        "def outer_function():\n",
        "    x = 10\n",
        "\n",
        "    # Lambda function accessing the variable x from the outer scope\n",
        "    inner_lambda = lambda y: x + y\n",
        "\n",
        "    return inner_lambda\n",
        "\n",
        "# Calling the outer function to get the lambda function\n",
        "lambda_func = outer_function()\n",
        "\n",
        "# Calling the lambda function\n",
        "result = lambda_func(5)\n",
        "\n",
        "print(result)\n"
      ],
      "metadata": {
        "colab": {
          "base_uri": "https://localhost:8080/"
        },
        "id": "tt-sAz9MTDCO",
        "outputId": "776a2e5c-f657-4949-889e-299a61a3d5a1"
      },
      "execution_count": 6,
      "outputs": [
        {
          "output_type": "stream",
          "name": "stdout",
          "text": [
            "15\n"
          ]
        }
      ]
    },
    {
      "cell_type": "markdown",
      "source": [
        "the outer function outer_function defines a variable x and a lambda function inner_lambda. The lambda function takes an argument y and adds it to the value of x. When outer_function is called, it returns the lambda function inner_lambda. Later, we call lambda_func(5), passing 5 as the argument to the lambda function. The lambda function has access to the variable x from its surrounding scope and adds it to the argument y. Thus, the result is 15.\n",
        "\n",
        "Lambda functions can access variables from the surrounding scope due to a concept called \"lexical scoping\" or \"closure\". They retain a reference to variables in their enclosing scope even after the outer function has finished executing.\n",
        "\n",
        "It's important to note that lambda functions are limited to accessing variables; they cannot modify variables from the outer scope unless those variables are mutable objects (e.g., lists). Also, if the value of a variable in the outer scope changes after the lambda function is created, the lambda function will use the updated value when it is called."
      ],
      "metadata": {
        "id": "NtL4ODi6VTEy"
      }
    },
    {
      "cell_type": "markdown",
      "source": [
        "##Q.6. Write a lambda function to calculate the square of a given number.\n",
        "\n"
      ],
      "metadata": {
        "id": "8qNbr1G2VzXN"
      }
    },
    {
      "cell_type": "code",
      "source": [
        "#lambda function to calculate the square\n",
        "\n",
        "square = lambda x: x**2\n",
        "result = square(105)\n",
        "print(result)\n"
      ],
      "metadata": {
        "colab": {
          "base_uri": "https://localhost:8080/"
        },
        "id": "Ya35-OMEVMRF",
        "outputId": "8871529e-d00b-4d3e-fcc9-7da531d4a1e9"
      },
      "execution_count": 8,
      "outputs": [
        {
          "output_type": "stream",
          "name": "stdout",
          "text": [
            "11025\n"
          ]
        }
      ]
    },
    {
      "cell_type": "markdown",
      "source": [
        "##Q.7. Create a lambda function to find the maximum value in a list of integers.\n",
        "\n"
      ],
      "metadata": {
        "id": "Y-BtYHLzWHAe"
      }
    },
    {
      "cell_type": "code",
      "source": [
        "#Here's a lambda function that finds the maximum value in a list of integers:\n",
        "find_max = lambda lst: max(lst)\n",
        "\n"
      ],
      "metadata": {
        "id": "k2Ett7cUV_qV"
      },
      "execution_count": 10,
      "outputs": []
    },
    {
      "cell_type": "markdown",
      "source": [
        "In this lambda function, lst is the input parameter representing the list of integers. The max() function is used to find the maximum value in the list."
      ],
      "metadata": {
        "id": "k7tGn9EDW2Na"
      }
    },
    {
      "cell_type": "code",
      "source": [
        "numbers = [3, 8, 1, 6, 2, 9]\n",
        "result = find_max(numbers)\n",
        "print(result)"
      ],
      "metadata": {
        "colab": {
          "base_uri": "https://localhost:8080/"
        },
        "id": "VHV5-5YeWsEh",
        "outputId": "4be6774b-9256-415d-a087-6dd389503c1d"
      },
      "execution_count": 11,
      "outputs": [
        {
          "output_type": "stream",
          "name": "stdout",
          "text": [
            "9\n"
          ]
        }
      ]
    },
    {
      "cell_type": "markdown",
      "source": [
        "##Q.8. Implement a lambda function to filter out all the even numbers from a list of integers."
      ],
      "metadata": {
        "id": "SyIVLu_sXJxM"
      }
    },
    {
      "cell_type": "code",
      "source": [
        "#Here's a lambda function that filters out all the even numbers from a list of integers:\n",
        "filter_even = lambda lst: list(filter(lambda x: x % 2 == 0, lst))\n"
      ],
      "metadata": {
        "id": "O5rbMU0hW86s"
      },
      "execution_count": 12,
      "outputs": []
    },
    {
      "cell_type": "markdown",
      "source": [
        "In this lambda function, lst is the input parameter representing the list of integers. The filter() function is used to filter the elements of the list based on the condition specified in the lambda function lambda x: x % 2 == 0. This lambda function checks if each element x is divisible by 2, i.e., if it is even. The filter() function returns an iterator of the filtered elements, which is then converted to a list using the list() function."
      ],
      "metadata": {
        "id": "LTm4IYxBXncb"
      }
    },
    {
      "cell_type": "code",
      "source": [
        "numbers = [3, 8, 1, 6, 2, 9]\n",
        "result = filter_even(numbers)\n",
        "print(result)"
      ],
      "metadata": {
        "colab": {
          "base_uri": "https://localhost:8080/"
        },
        "id": "B7khz4nmXmxF",
        "outputId": "70b9da12-bd15-4e21-92ee-43bf27eb8dc0"
      },
      "execution_count": 14,
      "outputs": [
        {
          "output_type": "stream",
          "name": "stdout",
          "text": [
            "[8, 6, 2]\n"
          ]
        }
      ]
    },
    {
      "cell_type": "markdown",
      "source": [
        "##Q.9. Write a lambda function to sort a list of strings in ascending order based on the length of each string."
      ],
      "metadata": {
        "id": "yccKVD7OX5s1"
      }
    },
    {
      "cell_type": "code",
      "source": [
        "#Here's a lambda function that sorts a list of strings in ascending order based on the length of each string:\n",
        "sort_strings = lambda lst: sorted(lst, key=lambda x: len(x))\n"
      ],
      "metadata": {
        "id": "J6aDJVulXsqq"
      },
      "execution_count": 15,
      "outputs": []
    },
    {
      "cell_type": "markdown",
      "source": [
        "In this lambda function, lst is the input parameter representing the list of strings. The sorted() function is used to sort the list based on the length of each string. The key parameter is set to the lambda function lambda x: len(x), which calculates the length of each string x. The sorted() function uses this key function to determine the order of the strings in the sorted result."
      ],
      "metadata": {
        "id": "77kMUlhKYGdf"
      }
    },
    {
      "cell_type": "code",
      "source": [
        "strings = ['apple', 'banana', 'cherry', 'date', 'elderberry']\n",
        "result = sort_strings(strings)\n",
        "print(result)  # Output: ['date', 'apple', 'cherry', 'banana', 'elderberry']\n"
      ],
      "metadata": {
        "colab": {
          "base_uri": "https://localhost:8080/"
        },
        "id": "vOPE8zRoYCsy",
        "outputId": "95f2a552-e528-4621-85bc-a648fcf4bef0"
      },
      "execution_count": 16,
      "outputs": [
        {
          "output_type": "stream",
          "name": "stdout",
          "text": [
            "['date', 'apple', 'banana', 'cherry', 'elderberry']\n"
          ]
        }
      ]
    },
    {
      "cell_type": "markdown",
      "source": [
        "##Q10. Create a lambda function that takes two lists as input and returns a new list containing the common elements between the two lists.\n",
        "\n",
        "\n"
      ],
      "metadata": {
        "id": "lSzsiZPo09K3"
      }
    },
    {
      "cell_type": "code",
      "source": [
        "#Here's a lambda function that takes two lists as input and returns a new list containing the common elements between the two lists:\n",
        "find_common_elements = lambda list1, list2: list(filter(lambda x: x in list2, list1))\n"
      ],
      "metadata": {
        "id": "X9Vke82pYKrd"
      },
      "execution_count": 1,
      "outputs": []
    },
    {
      "cell_type": "markdown",
      "source": [
        "In this lambda function, list1 and list2 are the input parameters representing the two lists. The filter() function is used to filter the elements of list1 based on the condition specified in the lambda function lambda x: x in list2. This lambda function checks if each element x from list1 is present in list2. The filter() function returns an iterator of the filtered elements, which is then converted to a list using the list() function.\n",
        "\n"
      ],
      "metadata": {
        "id": "OrKk99Fw13vX"
      }
    },
    {
      "cell_type": "code",
      "source": [
        "list1 = [1, 2, 3, 4, 5]\n",
        "list2 = [4, 5, 6, 7, 8]\n",
        "result = find_common_elements(list1, list2)\n",
        "print(result)\n"
      ],
      "metadata": {
        "colab": {
          "base_uri": "https://localhost:8080/"
        },
        "id": "TlJe6vp41nT-",
        "outputId": "e11879b0-720d-42a1-a924-8b7316a309f6"
      },
      "execution_count": 2,
      "outputs": [
        {
          "output_type": "stream",
          "name": "stdout",
          "text": [
            "[4, 5]\n"
          ]
        }
      ]
    },
    {
      "cell_type": "markdown",
      "source": [
        "##Q.11. Write a recursive function to calculate the factorial of a given positive integer.\n",
        "\n"
      ],
      "metadata": {
        "id": "Pao2kXdn2ZeX"
      }
    },
    {
      "cell_type": "code",
      "source": [
        "#Here's a recursive function to calculate the factorial of a given positive integer:\n",
        "\n",
        "def factorial(n):\n",
        "    if n == 0 or n == 1:\n",
        "        return 1\n",
        "    else:\n",
        "        return n * factorial(n - 1)\n"
      ],
      "metadata": {
        "id": "703ZOx9V2DTg"
      },
      "execution_count": 3,
      "outputs": []
    },
    {
      "cell_type": "markdown",
      "source": [
        "In this recursive function, the base case is defined when n is equal to 0 or 1. In these cases, the factorial is 1, so the function returns 1. For any other positive integer n, the function calls itself with the argument n - 1 and multiplies it by n. This process continues until the base case is reached."
      ],
      "metadata": {
        "id": "SC6mHfP72yQz"
      }
    },
    {
      "cell_type": "code",
      "source": [
        "result = factorial(9)\n",
        "print(result)\n"
      ],
      "metadata": {
        "colab": {
          "base_uri": "https://localhost:8080/"
        },
        "id": "vF2xF10j2sC2",
        "outputId": "5b52ee52-4629-4a3c-b00f-2fca2c090662"
      },
      "execution_count": 4,
      "outputs": [
        {
          "output_type": "stream",
          "name": "stdout",
          "text": [
            "362880\n"
          ]
        }
      ]
    },
    {
      "cell_type": "markdown",
      "source": [
        "##Q.12. Implement a recursive function to compute the nth Fibonacci number.\n",
        "\n"
      ],
      "metadata": {
        "id": "LURs_ONa3KVw"
      }
    },
    {
      "cell_type": "code",
      "source": [
        "#Here's a recursive function to compute the nth Fibonacci number:\n",
        "def fibonacci(n):\n",
        "    if n <= 1:\n",
        "        return n\n",
        "    else:\n",
        "        return fibonacci(n - 1) + fibonacci(n - 2)\n"
      ],
      "metadata": {
        "id": "nweA0Kq223xm"
      },
      "execution_count": 5,
      "outputs": []
    },
    {
      "cell_type": "markdown",
      "source": [
        "In this recursive function, the base case is defined when n is less than or equal to 1. In these cases, the Fibonacci number is equal to n. For any other positive integer n, the function calls itself recursively with the arguments n - 1 and n - 2, and returns the sum of the two previous Fibonacci numbers. This process continues until the base case is reached."
      ],
      "metadata": {
        "id": "wJbHbLac3yme"
      }
    },
    {
      "cell_type": "code",
      "source": [
        "result = fibonacci(15)\n",
        "print(result)\n"
      ],
      "metadata": {
        "colab": {
          "base_uri": "https://localhost:8080/"
        },
        "id": "IAS5kdt13Xvy",
        "outputId": "e9667e00-4c53-4569-91d2-1f7c7b2f99f7"
      },
      "execution_count": 8,
      "outputs": [
        {
          "output_type": "stream",
          "name": "stdout",
          "text": [
            "610\n"
          ]
        }
      ]
    },
    {
      "cell_type": "markdown",
      "source": [
        "##Q.13. Create a recursive function to find the sum of all the elements in a given list."
      ],
      "metadata": {
        "id": "_0KtsGlZ31wL"
      }
    },
    {
      "cell_type": "code",
      "source": [
        "#Here's a recursive function to find the sum of all the elements in a given list:\n",
        "def recursive_sum(lst):\n",
        "    if len(lst) == 0:\n",
        "        return 0\n",
        "    else:\n",
        "        return lst[0] + recursive_sum(lst[1:])\n"
      ],
      "metadata": {
        "id": "CNwIyicT3iyi"
      },
      "execution_count": 9,
      "outputs": []
    },
    {
      "cell_type": "markdown",
      "source": [
        "In this recursive function, the base case is defined when the length of the list lst is 0. In this case, the function returns 0, indicating an empty list. For any non-empty list, the function adds the first element of the list (lst[0]) to the sum of the remaining elements in the list (recursive_sum(lst[1:])). The function continues to break down the list until it reaches the base case."
      ],
      "metadata": {
        "id": "Lc3aQ1pr4Iwe"
      }
    },
    {
      "cell_type": "code",
      "source": [
        "numbers = [1, 2, 3, 4, 5]\n",
        "result = recursive_sum(numbers)\n",
        "print(result)\n"
      ],
      "metadata": {
        "colab": {
          "base_uri": "https://localhost:8080/"
        },
        "id": "ThlzoU7q4EC7",
        "outputId": "a801d031-37aa-4abf-bc57-f64bc7206fb5"
      },
      "execution_count": 11,
      "outputs": [
        {
          "output_type": "stream",
          "name": "stdout",
          "text": [
            "15\n"
          ]
        }
      ]
    },
    {
      "cell_type": "markdown",
      "source": [
        "##Q.14. Write a recursive function to determine whether a given string is a palindrome."
      ],
      "metadata": {
        "id": "SsfR6G384ZJ1"
      }
    },
    {
      "cell_type": "code",
      "source": [
        "# Here's a recursive function to determine whether a given string is a palindrome:\n",
        "def is_palindrome(s):\n",
        "    if len(s) <= 1:\n",
        "        return True\n",
        "    elif s[0] != s[-1]:\n",
        "        return False\n",
        "    else:\n",
        "        return is_palindrome(s[1:-1])\n"
      ],
      "metadata": {
        "id": "3jbVYctS4MPf"
      },
      "execution_count": 12,
      "outputs": []
    },
    {
      "cell_type": "markdown",
      "source": [
        "In this recursive function, the base case is defined when the length of the string s is less than or equal to 1. In these cases, the function returns True since a string with one character or no characters is considered a palindrome. For any other string, the function checks if the first character (s[0]) is equal to the last character (s[-1]). If they are not equal, the function returns False indicating that the string is not a palindrome. If they are equal, the function recursively calls itself with the substring excluding the first and last characters (s[1:-1]). The process continues until the base case is reached."
      ],
      "metadata": {
        "id": "vbRmWrAa4q0C"
      }
    },
    {
      "cell_type": "code",
      "source": [
        "string1 = \"racecar\"\n",
        "result1 = is_palindrome(string1)\n",
        "print(result1)\n",
        "\n",
        "string2 = \"hello\"\n",
        "result2 = is_palindrome(string2)\n",
        "print(result2)\n"
      ],
      "metadata": {
        "colab": {
          "base_uri": "https://localhost:8080/"
        },
        "id": "0NL2a0DT4nji",
        "outputId": "dd2900f0-8b1f-479f-cb1c-95b6adeaa43a"
      },
      "execution_count": 13,
      "outputs": [
        {
          "output_type": "stream",
          "name": "stdout",
          "text": [
            "True\n",
            "False\n"
          ]
        }
      ]
    },
    {
      "cell_type": "markdown",
      "source": [
        "##Q15. Implement a recursive function to find the greatest common divisor (GCD) of two positive integers."
      ],
      "metadata": {
        "id": "rmHF1G485Ytu"
      }
    },
    {
      "cell_type": "code",
      "source": [
        "#Here's a recursive function to find the greatest common divisor (GCD) of two positive integers:\n",
        "def gcd(a, b):\n",
        "    if b == 0:\n",
        "        return a\n",
        "    else:\n",
        "        return gcd(b, a % b)\n"
      ],
      "metadata": {
        "id": "XZzDUf3x4z3L"
      },
      "execution_count": 14,
      "outputs": []
    },
    {
      "cell_type": "markdown",
      "source": [
        "In this recursive function, the base case is defined when the second integer b is equal to 0. In this case, the GCD is the value of the first integer a, and the function returns a. For any other positive integers a and b, the function calls itself recursively with the arguments b and a % b. The % operator calculates the remainder when a is divided by b. The function continues to recursively calculate the GCD until the base case is reached."
      ],
      "metadata": {
        "id": "TgE0tI-s5mVj"
      }
    },
    {
      "cell_type": "code",
      "source": [
        "result = gcd(36, 48)\n",
        "print(result)\n"
      ],
      "metadata": {
        "colab": {
          "base_uri": "https://localhost:8080/"
        },
        "id": "AX-k0B8j5iwz",
        "outputId": "97a77c51-0964-40f4-992d-6390161490c3"
      },
      "execution_count": 15,
      "outputs": [
        {
          "output_type": "stream",
          "name": "stdout",
          "text": [
            "12\n"
          ]
        }
      ]
    },
    {
      "cell_type": "code",
      "source": [],
      "metadata": {
        "id": "Z575LFWD5rul"
      },
      "execution_count": null,
      "outputs": []
    }
  ]
}
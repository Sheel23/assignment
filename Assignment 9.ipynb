{
  "nbformat": 4,
  "nbformat_minor": 0,
  "metadata": {
    "colab": {
      "provenance": [],
      "authorship_tag": "ABX9TyNMtBN2rjuaVcgyR3IZx7xj",
      "include_colab_link": true
    },
    "kernelspec": {
      "name": "python3",
      "display_name": "Python 3"
    },
    "language_info": {
      "name": "python"
    }
  },
  "cells": [
    {
      "cell_type": "markdown",
      "metadata": {
        "id": "view-in-github",
        "colab_type": "text"
      },
      "source": [
        "<a href=\"https://colab.research.google.com/github/Sheel23/assignment/blob/main/Assignment%209.ipynb\" target=\"_parent\"><img src=\"https://colab.research.google.com/assets/colab-badge.svg\" alt=\"Open In Colab\"/></a>"
      ]
    },
    {
      "cell_type": "markdown",
      "source": [
        "##Q1. What is the role of the 'else' block in a try-except statement? Provide an example scenario where it would be useful.\n",
        "\n",
        "The else block in a try-except statement is optional and provides a block of code that should be executed if no exceptions are raised within the try block. The else block is executed immediately after the try block finishes executing, but before any finally block (if present) is executed.\n",
        "\n",
        "The role of the else block is to specify the code that should run when the code within the try block completes successfully without raising any exceptions. It allows you to differentiate between the code that handles exceptions (except block) and the code that should run when no exceptions occur (else block)."
      ],
      "metadata": {
        "id": "a4mBxyVD_THv"
      }
    },
    {
      "cell_type": "code",
      "execution_count": 1,
      "metadata": {
        "colab": {
          "base_uri": "https://localhost:8080/"
        },
        "id": "j6FNot64_OvR",
        "outputId": "5d3acd9f-940b-4b95-e191-421c6dbbb3cd"
      },
      "outputs": [
        {
          "output_type": "stream",
          "name": "stdout",
          "text": [
            "Division result: 5.0\n",
            "Error: Division by zero is not allowed.\n"
          ]
        }
      ],
      "source": [
        "#Example\n",
        "\n",
        "def divide_numbers(dividend, divisor):\n",
        "    try:\n",
        "        result = dividend / divisor\n",
        "    except ZeroDivisionError:\n",
        "        print(\"Error: Division by zero is not allowed.\")\n",
        "    else:\n",
        "        print(\"Division result:\", result)\n",
        "\n",
        "# Example usage\n",
        "divide_numbers(10, 2)\n",
        "divide_numbers(10, 0)\n"
      ]
    },
    {
      "cell_type": "markdown",
      "source": [
        "##Q2. Can a try-except block be nested inside another try-except block? Explain with an example.\n",
        "\n",
        "Yes, a try-except block can be nested inside another try-except block in Python. This concept is known as nested exception handling. It allows for handling exceptions at different levels of code execution, providing more granular and specific exception handling based on the context."
      ],
      "metadata": {
        "id": "xz_9Z7zu_zwa"
      }
    },
    {
      "cell_type": "code",
      "source": [
        "#Example\n",
        "\n",
        "def divide_numbers(dividend, divisor):\n",
        "    try:\n",
        "        try:\n",
        "            result = dividend / divisor\n",
        "        except ZeroDivisionError:\n",
        "            print(\"Error: Division by zero is not allowed.\")\n",
        "    except TypeError:\n",
        "        print(\"Error: Invalid operands for division.\")\n",
        "\n",
        "# Example usage\n",
        "divide_numbers(10, 2)\n",
        "divide_numbers(10, 0)\n",
        "divide_numbers(\"10\", 2)"
      ],
      "metadata": {
        "colab": {
          "base_uri": "https://localhost:8080/"
        },
        "id": "tLio0sCR_gcW",
        "outputId": "9d213eea-63e4-4633-d914-3889157ee97b"
      },
      "execution_count": 2,
      "outputs": [
        {
          "output_type": "stream",
          "name": "stdout",
          "text": [
            "Error: Division by zero is not allowed.\n",
            "Error: Invalid operands for division.\n"
          ]
        }
      ]
    },
    {
      "cell_type": "markdown",
      "source": [
        "The outer try-except block catches a TypeError exception. If a TypeError occurs during the execution of the inner try block, the outer except block is triggered, and an appropriate error message is printed.\n",
        "\n",
        "The inner try-except block catches a ZeroDivisionError exception. If a ZeroDivisionError occurs during the division operation inside the inner try block, the inner except block is triggered, and an error message specific to division by zero is printed.\n",
        "\n",
        "Nested try-except blocks allow you to handle exceptions at different levels, providing more specific exception handling based on the context. In this example, the outer try-except block handles the TypeError exception, which could occur due to invalid operands for division. The inner try-except block handles the ZeroDivisionError exception, specifically related to division by zero."
      ],
      "metadata": {
        "id": "uAEj0hsXAT5P"
      }
    },
    {
      "cell_type": "markdown",
      "source": [
        "##Q3. How can you create a custom exception class in Python? Provide an example that demonstrates its usage.\n",
        "\n",
        "In Python, you can create a custom exception class by subclassing the built-in Exception class or any other existing exception class. By creating a custom exception class, you can define your own specific exception types that can be raised in your code when certain conditions or errors occur."
      ],
      "metadata": {
        "id": "Pl-CdSQzALnt"
      }
    },
    {
      "cell_type": "code",
      "source": [
        "# Example\n",
        "\n",
        "class CustomException(Exception):\n",
        "    def __init__(self, message):\n",
        "        self.message = message\n",
        "\n",
        "    def __str__(self):\n",
        "        return self.message\n",
        "\n",
        "\n",
        "def validate_age(age):\n",
        "    if age < 0:\n",
        "        raise CustomException(\"Age cannot be negative\")\n",
        "\n",
        "\n",
        "# Example usage\n",
        "try:\n",
        "    age = -5\n",
        "    validate_age(age)\n",
        "except CustomException as e:\n",
        "    print(\"Error:\", str(e))\n"
      ],
      "metadata": {
        "colab": {
          "base_uri": "https://localhost:8080/"
        },
        "id": "GnuVYCtwAEnB",
        "outputId": "4089df20-8a94-4ec0-a5e4-1aa93b5c7bc6"
      },
      "execution_count": 3,
      "outputs": [
        {
          "output_type": "stream",
          "name": "stdout",
          "text": [
            "Error: Age cannot be negative\n"
          ]
        }
      ]
    },
    {
      "cell_type": "markdown",
      "source": [
        "The validate_age() function takes an age as input and checks if it is a negative value. If the age is negative, it raises an instance of the CustomException class with a specific error message.\n",
        "\n",
        "In the example usage, we set the age to -5 and call the validate_age() function within a try-except block. Since the age is negative, the CustomException is raised and caught by the except block. The error message defined in the custom exception is then printed."
      ],
      "metadata": {
        "id": "phWtcF5bAmnU"
      }
    },
    {
      "cell_type": "markdown",
      "source": [
        "##Q4. What are some common exceptions that are built-in to Python?\n",
        "\n",
        "ZeroDivisionError: Raised when dividing a number by zero.\n",
        "\n",
        "TypeError: Raised when an operation or function is applied to an object of an inappropriate type.\n",
        "\n",
        "ValueError: Raised when a function receives an argument of the correct type but an inappropriate value.\n",
        "\n",
        "IndexError: Raised when trying to access an index that is out of range in a sequence (e.g., list, tuple).\n",
        "\n",
        "KeyError: Raised when trying to access a non-existent key in a dictionary.\n",
        "\n",
        "FileNotFoundError: Raised when a file or directory is not found.\n",
        "\n",
        "IOError: Raised when an I/O operation (e.g., reading or writing a file) fails.\n",
        "\n",
        "ImportError: Raised when an imported module or package cannot be found or loaded.\n",
        "\n",
        "NameError: Raised when a local or global name is not found.\n",
        "\n",
        "AttributeError: Raised when an attribute reference or assignment fails.\n",
        "\n",
        "TypeError: Raised when an operation or function is applied to an object of an inappropriate type.\n",
        "\n",
        "OverflowError: Raised when a numeric calculation exceeds the maximum representable value for a numeric type.\n",
        "\n",
        "MemoryError: Raised when the Python interpreter runs out of memory.\n",
        "\n",
        "KeyboardInterrupt: Raised when the user interrupts the execution of a program by pressing Ctrl+C."
      ],
      "metadata": {
        "id": "Enr3MBIMAoj3"
      }
    },
    {
      "cell_type": "markdown",
      "source": [
        "##Q5. What is logging in Python, and why is it important in software development?\n",
        "\n",
        "Logging in Python refers to the process of recording and storing informative messages or events that occur during the execution of a program. It involves capturing important details, such as status updates, error messages, warnings, and other relevant information, and saving them to a log file or other output destinations.\n",
        "\n",
        "Logging is crucial in software development for the following reasons:\n",
        "\n",
        "Debugging and Troubleshooting:\n",
        "\n",
        " Logging helps in identifying and debugging issues within a program. By logging error messages, stack traces, and other relevant information, developers can analyze the log files to understand what went wrong during the execution of the code and track down the root cause of errors.\n",
        "\n",
        "Error Reporting and Alerting:\n",
        "\n",
        "Logging allows for the generation of error reports and alerts. When an unexpected or critical error occurs, logs can be configured to trigger notifications or alerts to developers or system administrators, enabling them to take immediate action and resolve the problem.\n",
        "\n",
        "Performance Monitoring:\n",
        "\n",
        "Logging can be used to track the performance of an application. By logging timestamps and relevant metrics, developers can analyze the execution times of specific operations or identify areas where performance improvements can be made.\n",
        "\n",
        "Auditing and Compliance:\n",
        "\n",
        "In certain applications, logging is required to comply with regulations or standards. Logs can provide an audit trail that captures important events, user actions, and system interactions, which can be useful for security, compliance, and forensic analysis purposes.\n",
        "\n",
        "Historical Analysis and Monitoring:\n",
        "\n",
        " Log files serve as a historical record of a program's execution. They can be analyzed over time to identify patterns, trends, or recurring issues. This analysis helps in optimizing performance, identifying bottlenecks, and making informed decisions for future development and system enhancements.\n",
        "\n",
        "Understanding User Behavior:\n",
        "\n",
        "By logging user interactions, application usage patterns, or user preferences, developers can gain insights into how users are interacting with their software. These insights can be valuable for making data-driven decisions, improving user experience, and enhancing application features.\n",
        "\n",
        "Python provides the built-in logging module, which offers a flexible and powerful logging framework. It allows developers to define loggers, handlers, formatters, and levels of verbosity to control the behavior of logging. By utilizing the logging module, developers can easily incorporate logging into their code and have a standardized way of capturing and managing log messages."
      ],
      "metadata": {
        "id": "_DZlNRFIBJK5"
      }
    },
    {
      "cell_type": "markdown",
      "source": [
        "##Q6. Explain the purpose of log levels in Python logging and provide examples of when each log level would be appropriate.\n",
        "\n",
        "The commonly used log levels in Python logging, in increasing order of severity, are:\n",
        "\n",
        "DEBUG:\n",
        "\n",
        " The DEBUG level is used for detailed diagnostic information that is typically useful during development or debugging. It is the lowest level of severity and provides the most detailed information. Example usage: Printing variable values, tracing program flow, or capturing detailed steps for debugging purposes.\n",
        "\n",
        "INFO:\n",
        "\n",
        "The INFO level is used to convey general information about the program's execution. It is typically used for providing high-level updates or status messages. Example usage: Logging application startup, configuration details, or major milestones reached during program execution.\n",
        "\n",
        "WARNING:\n",
        "\n",
        " The WARNING level indicates that something unexpected or potentially problematic has occurred. It is used to highlight potential issues that may require attention but do not cause the program to fail. Example usage: Logging deprecated feature usage, incorrect configuration settings, or other situations that may lead to errors if not addressed.\n",
        "\n",
        "ERROR:\n",
        "\n",
        " The ERROR level is used to indicate errors or exceptions that have occurred during the execution of the program. It signifies a problem that caused the program to deviate from its intended behavior but did not lead to a complete failure. Example usage: Logging caught exceptions, validation failures, or recoverable errors that need attention.\n",
        "\n",
        "CRITICAL:\n",
        "\n",
        " The CRITICAL level represents the most severe log level. It indicates critical errors or conditions that may cause the program to crash or become non-functional. Example usage: Logging unrecoverable errors, system failures, or conditions that require immediate attention to prevent further damage."
      ],
      "metadata": {
        "id": "A0_MMev3Bhjz"
      }
    },
    {
      "cell_type": "markdown",
      "source": [
        "##Q7. What are log formatters in Python logging, and how can you customise the log message format using formatters?\n",
        "\n",
        "Python's logging module provides a default log formatter, but you can customize it or create your own custom log formatter to meet your specific requirements.\n",
        "\n",
        "To customize the log message format using formatters in Python logging, you need to perform the following steps:\n",
        "\n",
        "Create a Formatter object: Instantiate a logging.Formatter object, specifying the desired format string as an argument. The format string defines the structure and content of the log messages.\n",
        "\n",
        "Associate the Formatter with a Handler: Assign the Formatter object to the Handler you are using for logging. A Handler determines where the log messages are sent, such as the console, file, or a network stream.\n",
        "\n",
        "Configure the Logger: If necessary, configure the logger to use the desired Handler(s) that have the associated Formatter.\n",
        "\n",
        "Customize the format string: Use specific format codes within the format string to include relevant information. Some commonly used format codes include %(levelname)s for the log level, %(asctime)s for the timestamp, %(name)s for the logger name, and %(message)s for the actual log message."
      ],
      "metadata": {
        "id": "stGq2g5HCGYJ"
      }
    },
    {
      "cell_type": "code",
      "source": [
        "#Example\n",
        "\n",
        "import logging\n",
        "\n",
        "# Create a Formatter object with a custom format string\n",
        "formatter = logging.Formatter('%(asctime)s - %(levelname)s - %(message)s')\n",
        "\n",
        "# Create a FileHandler and associate the Formatter\n",
        "file_handler = logging.FileHandler('app.log')\n",
        "file_handler.setFormatter(formatter)\n",
        "\n",
        "# Create a Logger and add the FileHandler\n",
        "logger = logging.getLogger('my_app')\n",
        "logger.addHandler(file_handler)\n",
        "\n",
        "# Set the log level\n",
        "logger.setLevel(logging.INFO)\n",
        "\n",
        "# Log some messages\n",
        "logger.debug('This is a debug message')\n",
        "logger.info('This is an info message')\n",
        "logger.warning('This is a warning message')\n"
      ],
      "metadata": {
        "colab": {
          "base_uri": "https://localhost:8080/"
        },
        "id": "Aqiid2JBAhUp",
        "outputId": "b4007ffa-92fb-415b-dfe2-bf1a6daa869b"
      },
      "execution_count": 4,
      "outputs": [
        {
          "output_type": "stream",
          "name": "stderr",
          "text": [
            "INFO:my_app:This is an info message\n",
            "WARNING:my_app:This is a warning message\n"
          ]
        }
      ]
    },
    {
      "cell_type": "markdown",
      "source": [
        "We create a custom Formatter object with the desired format string '%(asctime)s - %(levelname)s - %(message)s', which includes the timestamp, log level, and log message.\n",
        "\n",
        "We create a FileHandler and associate the Formatter with it using the setFormatter() method.\n",
        "\n",
        "We create a Logger object named 'my_app' and add the FileHandler to it.\n",
        "\n",
        "We set the log level to INFO to capture log messages at the INFO level and above.\n",
        "\n",
        "We log some messages at different levels. The log messages will be formatted according to the specified format string and written to the file 'app.log'."
      ],
      "metadata": {
        "id": "b2KMpMoxDHbG"
      }
    },
    {
      "cell_type": "markdown",
      "source": [
        "##Q8. How can you set up logging to capture log messages from multiple modules or classes in a Python application?\n",
        "\n",
        "To capture log messages from multiple modules or classes in a Python application, you can set up logging with the following steps:\n",
        "\n",
        "Create a Logging Configuration File (Optional): You can create a separate configuration file, such as logging.conf, to specify the logging settings. This file can include the loggers, handlers, formatters, and their configurations. The logging configuration file can provide flexibility and ease of maintenance for complex logging setups.\n",
        "\n",
        "Import the logging module: Import the logging module in the modules or classes from which you want to capture log messages.\n",
        "\n",
        "Configure the logger: Get a reference to the logger using logging.getLogger(__name__) or a specific logger name. This ensures that each module or class has its own logger instance. Optionally, you can configure the logger to set its log level, handlers, and formatters.\n",
        "\n",
        "Log messages: Use the logger's methods (debug(), info(), warning(), error(), etc.) to log messages at different levels from within the modules or classes. These log messages will be captured by the configured logger.\n",
        "\n",
        "Configure Handlers and Formatters (if not using a logging configuration file): If you're not using a logging configuration file, configure the handlers and formatters explicitly in your code. Handlers determine where the log messages go (e.g., console, file), and formatters specify the format of the log messages."
      ],
      "metadata": {
        "id": "NxzAobeZDMF3"
      }
    },
    {
      "cell_type": "code",
      "source": [
        "#module1.py\n",
        "\n",
        "import logging\n",
        "\n",
        "logger = logging.getLogger(__name__)\n",
        "\n",
        "def do_something():\n",
        "    logger.info(\"Doing something in module1\")\n",
        "\n",
        "\n"
      ],
      "metadata": {
        "id": "4oEtdCIvChu8"
      },
      "execution_count": 5,
      "outputs": []
    },
    {
      "cell_type": "code",
      "source": [
        "#module2.py\n",
        "\n",
        "import logging\n",
        "\n",
        "logger = logging.getLogger(__name__)\n",
        "\n",
        "def do_something_else():\n",
        "    logger.info(\"Doing something else in module2\")\n"
      ],
      "metadata": {
        "id": "5MWdTXzGGsZ3"
      },
      "execution_count": 6,
      "outputs": []
    },
    {
      "cell_type": "code",
      "source": [
        "import logging\n",
        "import module1\n",
        "import module2\n",
        "\n",
        "# Configure the root logger (optional)\n",
        "logging.basicConfig(level=logging.INFO)\n",
        "\n",
        "# Create a file handler and formatter\n",
        "file_handler = logging.FileHandler('app.log')\n",
        "formatter = logging.Formatter('%(asctime)s - %(levelname)s - %(message)s')\n",
        "file_handler.setFormatter(formatter)\n",
        "\n",
        "# Configure the handlers for module1 logger\n",
        "module1.logger.addHandler(file_handler)\n",
        "module1.logger.setLevel(logging.INFO)\n",
        "\n",
        "# Configure the handlers for module2 logger\n",
        "module2.logger.addHandler(file_handler)\n",
        "module2.logger.setLevel(logging.INFO)\n",
        "\n",
        "# Log messages from module1 and module2\n",
        "module1.do_something()\n",
        "module2.do_something_else()\n"
      ],
      "metadata": {
        "id": "genYydNGGyX3"
      },
      "execution_count": 7,
      "outputs": []
    },
    {
      "cell_type": "markdown",
      "source": [
        "##Q9. What is the difference between the logging and print statements in Python? When should you use logging over print statements in a real-world application?\n",
        "\n",
        "The logging and print statements in Python serve different purposes and have distinct characteristics. Here are the key differences between logging and print statements:\n",
        "\n",
        "Output Destination: The print statement directs output to the standard output (usually the console), while logging allows output to be directed to various destinations, such as a file, email, database, or external monitoring systems.\n",
        "\n",
        "Granularity and Control: Logging provides granular control over the log messages by allowing different log levels (e.g., DEBUG, INFO, WARNING, ERROR, CRITICAL) to be used. Each log level represents a different severity level, allowing for filtering and capturing specific types of messages. Print statements, on the other hand, do not have such built-in granularity or control.\n",
        "\n",
        "Flexibility and Configuration: Logging offers extensive configuration options, allowing you to customize the format of log messages, define loggers, handlers, and formatters, and set up different logging levels for different parts of the application. This flexibility allows for better organization and management of log messages. Print statements, in contrast, are less configurable and lack the flexibility provided by logging.\n",
        "\n",
        "Production Use and Debugging: Logging is more suitable for production use and long-term maintenance of applications. It allows for capturing important information, errors, warnings, and performance data systematically, facilitating debugging, troubleshooting, and monitoring. Print statements are commonly used during development and quick debugging but are not as suitable for long-term use or for capturing a comprehensive record of application behavior.\n",
        "\n",
        "In a real-world application, it is generally recommended to use logging over print statements for several reasons:\n",
        "\n",
        "a. Separation of Concerns: Logging separates the concerns of producing log messages from the concerns of the application's core functionality. It allows you to focus on the actual logic of your application without cluttering the code with print statements.\n",
        "\n",
        "b. Debugging and Troubleshooting: Logging provides more detailed information for debugging and troubleshooting purposes. You can log specific values, stack traces, and contextual information related to errors or unexpected behaviors, making it easier to identify and fix issues.\n",
        "\n",
        "c. Flexibility and Configurability: Logging enables you to customize the output format, log levels, log destinations, and other logging settings according to your application's requirements. This allows for better control over the logging behavior and makes it easier to adapt to different deployment environments or logging strategies.\n",
        "\n",
        "d. Production Environment Compatibility: Logging is designed to handle various deployment scenarios, including server applications, distributed systems, and long-running processes. It supports logging to files, remote servers, and other external systems, making it suitable for capturing and managing logs in production environments.\n",
        "\n",
        "e. Log Analysis and Monitoring: Logging facilitates log analysis and monitoring by providing standardized log messages that can be parsed and analyzed by log analysis tools or monitored by log management systems. This helps in understanding the application's behavior, detecting anomalies, and identifying patterns or trends."
      ],
      "metadata": {
        "id": "2Yz75e41SMME"
      }
    },
    {
      "cell_type": "markdown",
      "source": [
        "##Q10. Write a Python program that logs a message to a file named \"app.log\" with the\n",
        "#following requirements:\n",
        "#● The log message should be \"Hello, World!\"\n",
        "\n",
        "#● The log level should be set to \"INFO.\"\n",
        "\n",
        "#● The log file should append new log entries without overwriting previous ones."
      ],
      "metadata": {
        "id": "9QG8AbYKSr1O"
      }
    },
    {
      "cell_type": "code",
      "source": [
        "#Python program that logs a message to a file named \"app.log\" with the specified requirements:\n",
        "\n",
        "import logging\n",
        "\n",
        "# Configure the logger\n",
        "logger = logging.getLogger(__name__)\n",
        "logger.setLevel(logging.INFO)\n",
        "\n",
        "# Create a file handler and set it to append mode\n",
        "file_handler = logging.FileHandler('app.log', mode='a')\n",
        "\n",
        "# Create a formatter and set it for the file handler\n",
        "formatter = logging.Formatter('%(asctime)s - %(levelname)s - %(message)s')\n",
        "file_handler.setFormatter(formatter)\n",
        "\n",
        "# Add the file handler to the logger\n",
        "logger.addHandler(file_handler)\n",
        "\n",
        "# Log the message\n",
        "logger.info('Hello, World!')\n"
      ],
      "metadata": {
        "colab": {
          "base_uri": "https://localhost:8080/"
        },
        "id": "DlQG4yGyG_FW",
        "outputId": "f3bc96e9-0f03-45c5-e2c2-04ac97584c5f"
      },
      "execution_count": 8,
      "outputs": [
        {
          "output_type": "stream",
          "name": "stderr",
          "text": [
            "INFO:__main__:Hello, World!\n"
          ]
        }
      ]
    },
    {
      "cell_type": "markdown",
      "source": [
        "The logging module is imported.\n",
        "The logger is configured with the desired log level, in this case, INFO.\n",
        "A FileHandler is created with the file name \"app.log\" and the mode is set to 'a' to append new log entries without overwriting the previous ones.\n",
        "A formatter is created to specify the format of the log message, including the timestamp, log level, and the message itself.\n",
        "The formatter is set for the file handler using setFormatter().\n",
        "The file handler is added to the logger using addHandler().\n",
        "Finally, the log message 'Hello, World!' is logged at the INFO level using the logger's info() method."
      ],
      "metadata": {
        "id": "kWfeBWmeTJ7-"
      }
    },
    {
      "cell_type": "markdown",
      "source": [
        "##Q11. Create a Python program that logs an error message to the console and a file named \"errors.log\" if an exception occurs during the program's execution. The error message should include the exception type and a timestamp.\n",
        "\n"
      ],
      "metadata": {
        "id": "Pv4ueEOITUK6"
      }
    },
    {
      "cell_type": "code",
      "source": [
        "#Python program that logs an error message to the console and a file named \"errors.log\"\n",
        "#if an exception occurs during the program's execution:\n",
        "\n",
        "import logging\n",
        "import traceback\n",
        "import datetime\n",
        "\n",
        "# Configure the logger\n",
        "logger = logging.getLogger(__name__)\n",
        "logger.setLevel(logging.ERROR)\n",
        "\n",
        "# Create a console handler\n",
        "console_handler = logging.StreamHandler()\n",
        "console_handler.setLevel(logging.ERROR)\n",
        "\n",
        "# Create a file handler\n",
        "file_handler = logging.FileHandler('errors.log')\n",
        "file_handler.setLevel(logging.ERROR)\n",
        "\n",
        "# Create a formatter and set it for the handlers\n",
        "formatter = logging.Formatter('%(asctime)s - %(levelname)s - %(message)s')\n",
        "console_handler.setFormatter(formatter)\n",
        "file_handler.setFormatter(formatter)\n",
        "\n",
        "# Add the handlers to the logger\n",
        "logger.addHandler(console_handler)\n",
        "logger.addHandler(file_handler)\n",
        "\n",
        "try:\n",
        "    # Code that may raise an exception\n",
        "    raise ValueError(\"An example exception\")\n",
        "except Exception as e:\n",
        "    # Log the exception\n",
        "    timestamp = datetime.datetime.now().strftime('%Y-%m-%d %H:%M:%S')\n",
        "    exception_type = type(e).__name__\n",
        "    error_message = f\"{timestamp} - Exception: {exception_type}\\n{traceback.format_exc()}\"\n",
        "    logger.error(error_message)\n"
      ],
      "metadata": {
        "colab": {
          "base_uri": "https://localhost:8080/"
        },
        "id": "uR19H2nSTIUG",
        "outputId": "aad199e8-94e0-4e0f-e244-e6c3f3236638"
      },
      "execution_count": 9,
      "outputs": [
        {
          "output_type": "stream",
          "name": "stderr",
          "text": [
            "2023-07-06 08:25:28,371 - ERROR - 2023-07-06 08:25:28 - Exception: ValueError\n",
            "Traceback (most recent call last):\n",
            "  File \"<ipython-input-9-b5c907f88e1d>\", line 31, in <cell line: 29>\n",
            "    raise ValueError(\"An example exception\")\n",
            "ValueError: An example exception\n",
            "\n",
            "ERROR:__main__:2023-07-06 08:25:28 - Exception: ValueError\n",
            "Traceback (most recent call last):\n",
            "  File \"<ipython-input-9-b5c907f88e1d>\", line 31, in <cell line: 29>\n",
            "    raise ValueError(\"An example exception\")\n",
            "ValueError: An example exception\n",
            "\n"
          ]
        }
      ]
    },
    {
      "cell_type": "markdown",
      "source": [
        "The logging module is imported.\n",
        "The logger is configured with the desired log level, in this case, ERROR.\n",
        "A console handler is created to log error messages to the console.\n",
        "A file handler is created to log error messages to the \"errors.log\" file.\n",
        "A formatter is created to specify the format of the log message, including the timestamp, log level, and the message itself.\n",
        "The formatter is set for both the console and file handlers.\n",
        "The handlers are added to the logger.\n",
        "Inside the try-except block, an example exception is raised (ValueError in this case).\n",
        "The exception is caught, and an error message is constructed with the current timestamp, exception type, and the full traceback.\n",
        "The error message is logged at the ERROR level using the logger's error() method."
      ],
      "metadata": {
        "id": "6x2Kr977TrdB"
      }
    },
    {
      "cell_type": "code",
      "source": [],
      "metadata": {
        "id": "Zp6z9O2CTmRy"
      },
      "execution_count": null,
      "outputs": []
    }
  ]
}
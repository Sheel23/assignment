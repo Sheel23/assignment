{
  "nbformat": 4,
  "nbformat_minor": 0,
  "metadata": {
    "colab": {
      "provenance": [],
      "authorship_tag": "ABX9TyObyhjbA1PawHpOf95KXPPg",
      "include_colab_link": true
    },
    "kernelspec": {
      "name": "python3",
      "display_name": "Python 3"
    },
    "language_info": {
      "name": "python"
    }
  },
  "cells": [
    {
      "cell_type": "markdown",
      "metadata": {
        "id": "view-in-github",
        "colab_type": "text"
      },
      "source": [
        "<a href=\"https://colab.research.google.com/github/Sheel23/assignment/blob/main/Assignment2.ipynb\" target=\"_parent\"><img src=\"https://colab.research.google.com/assets/colab-badge.svg\" alt=\"Open In Colab\"/></a>"
      ]
    },
    {
      "cell_type": "markdown",
      "source": [
        "##1.What are the two values of the Boolean data type? How do you write them?\n",
        "\n",
        "The Boolean data type represents a logical value that can be either true or false. In programming languages, including many high-level languages like Python, Java,the true and false values are typically represented using the keywords \"true\" and \"false\".\n",
        "\n",
        "True: It represents a logical value that is considered to be true.\n",
        "\n",
        "False: It represents a logical value that is considered to be false."
      ],
      "metadata": {
        "id": "fFqOl-4X9KQ-"
      }
    },
    {
      "cell_type": "markdown",
      "source": [
        "##2.What are the three different types of Boolean operators?\n",
        "\n",
        "AND Operator: The AND operator returns true if both operands are true; otherwise, it returns false. In many programming languages, the AND operator is represented by the symbol \"&&\".\n",
        "\n",
        "OR Operator: The OR operator returns true if at least one of the operands is true; otherwise, it returns false. In most programming languages, the OR operator is represented by the symbol \"||\".\n",
        "\n",
        "NOT Operator: The NOT operator, also known as the negation operator, is a unary operator that reverses the logical state of its operand. If the operand is true, the NOT operator returns false, and if the operand is false, it returns true. In many programming languages, the NOT operator is represented by the exclamation mark \"!\" symbol."
      ],
      "metadata": {
        "id": "idSsUwTdUyX8"
      }
    },
    {
      "cell_type": "markdown",
      "source": [
        "##3.Make a list of each Boolean operator's truth tables (i.e. every possible combination of Boolean values for the operator and what it evaluate )."
      ],
      "metadata": {
        "id": "kxwxhD87VHnB"
      }
    },
    {
      "cell_type": "markdown",
      "source": [
        "AND Operator (&&):\n",
        "\n",
        "Operand A\t    Operand B   \tResult (A && B)\n",
        "\n",
        "false       \t false\t         false\n",
        "\n",
        "false\t        true\t         false\n",
        "\n",
        "true\t        false\t         false\n",
        "\n",
        "true\t        true\t         true\n",
        "\n",
        "OR Operator (||):\n",
        "\n",
        "Operand A\tOperand B\tResult (A || B)\n",
        "\n",
        "false\tfalse\tfalse\n",
        "\n",
        "false\ttrue\ttrue\n",
        "\n",
        "true\tfalse\ttrue\n",
        "\n",
        "true\ttrue\ttrue\n",
        "\n",
        "NOT Operator (!):\n",
        "\n",
        "Operand\t       Result (!Operand)\n",
        "\n",
        "false\t          true\n",
        "\n",
        "true\t          false"
      ],
      "metadata": {
        "id": "q2sbEipeVhQt"
      }
    },
    {
      "cell_type": "markdown",
      "source": [
        "##4. What are the values of the following expressions?\n",
        "(5 &gt; 4) and (3 == 5)\n",
        "\n",
        "not (5 &gt; 4)\n",
        "\n",
        "(5 &gt; 4) or (3 == 5)\n",
        "\n",
        "not ((5 &gt; 4) or (3 == 5))\n",
        "\n",
        "(True and True) and (True == False)\n",
        "\n",
        "(not False) or (not True)"
      ],
      "metadata": {
        "id": "8Gxm27ZyWvUz"
      }
    },
    {
      "cell_type": "markdown",
      "source": [
        "Answer :=\n",
        "\n",
        "(5 > 4) and (3 == 5) evaluates to false.\n",
        "\n",
        "not (5 > 4) evaluates to false.\n",
        "\n",
        "(5 > 4) or (3 == 5) evaluates to true.\n",
        "\n",
        "not ((5 > 4) or (3 == 5)) evaluates to false.\n",
        "\n",
        "(True and True) and (True == False) evaluates to false.\n",
        "\n",
        "(not False) or (not True) evaluates to true."
      ],
      "metadata": {
        "id": "jnF9bXyDW2FL"
      }
    },
    {
      "cell_type": "markdown",
      "source": [
        "##5. What are the six comparison operators?\n",
        "\n",
        "Equal to (==): This operator checks if the values on both sides are equal and returns true if they are, and false otherwise.\n",
        "\n",
        "Not equal to (!=): This operator checks if the values on both sides are not equal and returns true if they are different, and false if they are equal.\n",
        "\n",
        "Greater than (>): This operator checks if the value on the left side is greater than the value on the right side. It returns true if the condition is true, and false otherwise.\n",
        "\n",
        "Less than (<): This operator checks if the value on the left side is less than the value on the right side. It returns true if the condition is true, and false otherwise.\n",
        "\n",
        "Greater than or equal to (>=): This operator checks if the value on the left side is greater than or equal to the value on the right side. It returns true if the condition is true, and false otherwise.\n",
        "\n",
        "Less than or equal to (<=): This operator checks if the value on the left side is less than or equal to the value on the right side. It returns true if the condition is true, and false otherwise."
      ],
      "metadata": {
        "id": "1cCPNk_ZXQPG"
      }
    },
    {
      "cell_type": "markdown",
      "source": [
        "##6. How do you tell the difference between the equal to and assignment operators?Describe a condition and when you would use one.\n",
        "\n",
        "Equal to (==) Operator:\n",
        "The equal to (==) operator is used for comparison and checks if two values are equal. It returns a Boolean value of true if the values are equal and false if they are not. It is primarily used in conditional statements, such as if statements or while loops, to determine if a certain condition is true or false.\n"
      ],
      "metadata": {
        "id": "QdLb0QwjXjMH"
      }
    },
    {
      "cell_type": "code",
      "execution_count": 3,
      "metadata": {
        "colab": {
          "base_uri": "https://localhost:8080/"
        },
        "id": "FU0dQe0X9Bf-",
        "outputId": "bcad6ce8-a547-42a9-a54f-6fd093b86665"
      },
      "outputs": [
        {
          "output_type": "stream",
          "name": "stdout",
          "text": [
            "x is equal to 5\n"
          ]
        }
      ],
      "source": [
        "# For Example\n",
        "x=5\n",
        "x==5\n",
        "print(\"x is equal to 5\")"
      ]
    },
    {
      "cell_type": "markdown",
      "source": [
        "Assignment (=) Operator:\n",
        "The assignment (=) operator is used to assign a value to a variable. It assigns the value on the right side of the operator to the variable on the left side. It does not compare equality; instead, it performs an assignment operation."
      ],
      "metadata": {
        "id": "7Ndm7M6oX_5C"
      }
    },
    {
      "cell_type": "code",
      "source": [
        "# For Example\n",
        "x = 5\n",
        "y = x + 2\n",
        "print(y)\n"
      ],
      "metadata": {
        "colab": {
          "base_uri": "https://localhost:8080/"
        },
        "id": "pSMkdOow69l5",
        "outputId": "fe407870-dcb8-4175-f3f8-f097ae49399c"
      },
      "execution_count": 4,
      "outputs": [
        {
          "output_type": "stream",
          "name": "stdout",
          "text": [
            "7\n"
          ]
        }
      ]
    },
    {
      "cell_type": "markdown",
      "source": [
        "##7.Identify the three blocks in this code:\n",
        "spam = 0\n",
        "\n",
        "if spam == 10:\n",
        "\n",
        "print(&#39;eggs&#39;)\n",
        "\n",
        "if spam &gt; 5:\n",
        "\n",
        "print(&#39;bacon&#39;)\n",
        "\n",
        "else:\n",
        "\n",
        "print(&#39;ham&#39;)\n",
        "\n",
        "print(&#39;spam&#39;)\n",
        "\n",
        "print(&#39;spam&#39;)"
      ],
      "metadata": {
        "id": "DifN0CiNVPxB"
      }
    },
    {
      "cell_type": "code",
      "source": [
        "#This block contains an if statement with a condition spam == 10. If the condition is true, it will execute the print('eggs') statement.\n",
        "#However, since spam is initially assigned a value of 0, this block will not be executed.\n",
        "\n",
        "if spam == 10:\n",
        "    print('eggs')"
      ],
      "metadata": {
        "id": "T0kJTqBIVka_"
      },
      "execution_count": 5,
      "outputs": []
    },
    {
      "cell_type": "code",
      "source": [
        "#This block contains another if statement with a condition spam > 5. If the condition is true, it will execute the print('bacon') statement.\n",
        "# Again, since spam is initially assigned a value of 0, this block will also not be executed.\n",
        "\n",
        "if spam > 5:\n",
        "    print('bacon')\n"
      ],
      "metadata": {
        "id": "eVJtfBrhV6ug"
      },
      "execution_count": 5,
      "outputs": []
    },
    {
      "cell_type": "code",
      "source": [
        "#This block is an else block associated with the previous if statement.\n",
        "# It will execute the print('ham') statement because the conditions in the preceding if statements were not met.\n",
        "#Additionally, the two subsequent print statements will be executed regardless of the conditions\n",
        "else:\n",
        "    print('ham')\n",
        "    print('spam')\n",
        "    print('spam')\n",
        ""
      ],
      "metadata": {
        "id": "IS1fcm9SWL_n"
      },
      "execution_count": 5,
      "outputs": []
    },
    {
      "cell_type": "markdown",
      "source": [
        "#8. Write code that prints Hello if 1 is stored in spam, prints Howdy if 2 is stored in spam, and prints Greetings! if anything else is stored in spam.\n",
        "\n",
        "\n"
      ],
      "metadata": {
        "id": "m49g8sEBa1cH"
      }
    },
    {
      "cell_type": "code",
      "source": [
        "spam = int(input(\"Input a no.\"))\n",
        "if spam == 1:\n",
        "    print(\"Hello\")\n",
        "elif spam == 2:\n",
        "    print(\"Howdy\")\n",
        "else:\n",
        "    print(\"Greetings!\")\n",
        ""
      ],
      "metadata": {
        "colab": {
          "base_uri": "https://localhost:8080/"
        },
        "id": "MPWDPM2DbmLV",
        "outputId": "ae46ceaf-760d-493e-af9d-de7f12199ebb"
      },
      "execution_count": 17,
      "outputs": [
        {
          "output_type": "stream",
          "name": "stdout",
          "text": [
            "Input a no.2\n",
            "Howdy\n"
          ]
        }
      ]
    },
    {
      "cell_type": "markdown",
      "source": [
        "##9.If your programme is stuck in an endless loop, what keys you’ll press?\n",
        "\n",
        "If your program is stuck in an endless loop and you need to interrupt its execution, you can typically press the following key combination depending on the operating system and development environment:\n",
        "\n",
        "1.Ctrl + C: This key combination is commonly used to terminate the execution of a program running in a terminal or command prompt. It sends an interrupt signal to the program, causing it to stop execution.\n",
        "\n",
        "2.Ctrl + Break: On some systems, such as Windows, the combination of Ctrl + Break can be used to interrupt or break out of an infinite loop.\n",
        "\n",
        "3.**Ctrl + **: This key combination is another option for interrupting the execution of a program in some environments. It sends a quit signal to the program, forcing it to terminate."
      ],
      "metadata": {
        "id": "l0QQ7e5WW4lz"
      }
    },
    {
      "cell_type": "markdown",
      "source": [
        "##10. How can you tell the difference between break and continue?\n",
        "\n"
      ],
      "metadata": {
        "id": "hT3sLc_8XP21"
      }
    },
    {
      "cell_type": "markdown",
      "source": [
        "break:\n",
        "The break statement is used to exit or terminate the current loop immediately.\n",
        "When the break statement is encountered within a loop (such as a for or while loop), the loop is terminated, and the program execution continues with the next statement following the loop.\n",
        "It effectively \"breaks\" out of the loop and skips any remaining iterations.\n",
        "break is often used to prematurely exit a loop when a specific condition is met or to stop an iteration when a desired outcome is achieved.\n",
        "\n",
        "continue:\n",
        "The continue statement is used to skip the rest of the current iteration and move to the next iteration of the loop.\n",
        "When the continue statement is encountered within a loop, the remaining code within the loop for that particular iteration is skipped, and the loop proceeds to the next iteration.\n",
        "It effectively \"continues\" to the next iteration without executing the remaining code within the loop for the current iteration.\n",
        "continue is typically used when you want to skip certain iterations based on a specific condition and continue with the next iteration."
      ],
      "metadata": {
        "id": "Zq4h1YCZXukW"
      }
    },
    {
      "cell_type": "markdown",
      "source": [
        "##11. In a for loop, what is the difference between range(10), range(0, 10), and range(0, 10, 1)?\n",
        "\n",
        "range(10):\n",
        "\n",
        "This expression defines a range object that starts from 0 (by default) and goes up to, but does not include, the specified end value, which is 10 in this case.\n",
        "It represents the range of numbers from 0 to 9 (10 numbers in total).\n",
        "The step size is implicitly set to 1.\n",
        "\n",
        "range(0, 10):\n",
        "\n",
        "This expression also defines a range object, but it explicitly specifies the start and end values of the range.\n",
        "It starts from the specified start value, which is 0 in this case, and goes up to, but does not include, the specified end value, which is 10.\n",
        "It represents the same range of numbers from 0 to 9 (10 numbers in total).\n",
        "The step size is implicitly set to 1.\n",
        "\n",
        "range(0, 10, 1):\n",
        "\n",
        "Similarly, this expression defines a range object with the specified start, end, and step values.\n",
        "It starts from the specified start value, which is 0, and goes up to, but does not include, the specified end value, which is 10.\n",
        "It represents the same range of numbers from 0 to 9 (10 numbers in total).\n",
        "The step size is explicitly set to 1, although 1 is the default step size, so it can be omitted."
      ],
      "metadata": {
        "id": "coX1d_P9YFyz"
      }
    },
    {
      "cell_type": "markdown",
      "source": [
        "##12. Write a short program that prints the numbers 1 to 10 using a for loop. Then write an equivalent program that prints the numbers 1 to 10 using a while loop.\n"
      ],
      "metadata": {
        "id": "frIN948rYbPf"
      }
    },
    {
      "cell_type": "code",
      "source": [
        "#short program that prints the numbers 1 to 10 using a for loop:\n",
        "# Using a for loop\n",
        "for num in range(1, 11):\n",
        "    print(num)\n"
      ],
      "metadata": {
        "colab": {
          "base_uri": "https://localhost:8080/"
        },
        "id": "2X8FeEuTYhEP",
        "outputId": "4669b449-f230-4326-9fde-bdc7984fff34"
      },
      "execution_count": 6,
      "outputs": [
        {
          "output_type": "stream",
          "name": "stdout",
          "text": [
            "1\n",
            "2\n",
            "3\n",
            "4\n",
            "5\n",
            "6\n",
            "7\n",
            "8\n",
            "9\n",
            "10\n"
          ]
        }
      ]
    },
    {
      "cell_type": "code",
      "source": [
        "#here's an equivalent program that prints the numbers 1 to 10 using a while loop\n",
        "# Using a while loop\n",
        "num = 1\n",
        "while num <= 10:\n",
        "    print(num)\n",
        "    num += 1\n"
      ],
      "metadata": {
        "colab": {
          "base_uri": "https://localhost:8080/"
        },
        "id": "Jslmaw3wYp-J",
        "outputId": "4e96d38d-a33e-4b1d-8831-97cea52991db"
      },
      "execution_count": 7,
      "outputs": [
        {
          "output_type": "stream",
          "name": "stdout",
          "text": [
            "1\n",
            "2\n",
            "3\n",
            "4\n",
            "5\n",
            "6\n",
            "7\n",
            "8\n",
            "9\n",
            "10\n"
          ]
        }
      ]
    },
    {
      "cell_type": "markdown",
      "source": [
        "##13. If you had a function named bacon() inside a module named spam, how would you call it after importing spam?\n",
        "\n",
        "Answer: This is function is called spam.bacon()"
      ],
      "metadata": {
        "id": "Ylj4NgDmY47k"
      }
    },
    {
      "cell_type": "code",
      "source": [],
      "metadata": {
        "id": "wl3picVLS0e_"
      },
      "execution_count": 17,
      "outputs": []
    }
  ]
}
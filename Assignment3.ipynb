{
  "nbformat": 4,
  "nbformat_minor": 0,
  "metadata": {
    "colab": {
      "provenance": [],
      "authorship_tag": "ABX9TyMYv3ivBELG/SIs0bv6H54e",
      "include_colab_link": true
    },
    "kernelspec": {
      "name": "python3",
      "display_name": "Python 3"
    },
    "language_info": {
      "name": "python"
    }
  },
  "cells": [
    {
      "cell_type": "markdown",
      "metadata": {
        "id": "view-in-github",
        "colab_type": "text"
      },
      "source": [
        "<a href=\"https://colab.research.google.com/github/Sheel23/assignment/blob/main/Assignment3.ipynb\" target=\"_parent\"><img src=\"https://colab.research.google.com/assets/colab-badge.svg\" alt=\"Open In Colab\"/></a>"
      ]
    },
    {
      "cell_type": "markdown",
      "source": [
        "##Q1.Why are functions advantageous to have in your programs?\n",
        "\n",
        "Ans. Advantages of having functions:\n",
        "Functions reduce the need for duplicate code. This makes programs shorter, easier to read, and easier to update."
      ],
      "metadata": {
        "id": "Fpq04dTcc0ON"
      }
    },
    {
      "cell_type": "markdown",
      "source": [
        "##Q2. When does the code in a function run:when it's specified or when it's called?\n",
        "\n",
        "Ans . Code in the function runs when the function is called\n",
        "\n",
        "##Q3. What statement creates a function?\n",
        "\n",
        "Ans. The def statement defines (i.e. creates) a function.\n",
        "Eg .\n",
        "\n",
        "def my_func():\n",
        "\n",
        "pass"
      ],
      "metadata": {
        "id": "dKSM_IN0c4ZG"
      }
    },
    {
      "cell_type": "code",
      "execution_count": 3,
      "metadata": {
        "colab": {
          "base_uri": "https://localhost:8080/"
        },
        "id": "RsWYU7a5ci_G",
        "outputId": "1e16f135-8724-48af-cb1a-d68ac0ad9351"
      },
      "outputs": [
        {
          "output_type": "stream",
          "name": "stdout",
          "text": [
            "Object `call` not found.\n"
          ]
        }
      ],
      "source": [
        "# Q4. What is the difference between a function and a function call?\n",
        "hat is the difference between a function and a function call?\n",
        "\n",
        "#def of func\n",
        "def my_func():\n",
        "    pass\n",
        "my_func() #calling of function"
      ]
    },
    {
      "cell_type": "markdown",
      "source": [
        "A function consists of the def statement and the code in its def clause.\n",
        "\n",
        "A function call is what moves the program execution into the function, and the function call evaluates to the function's return value."
      ],
      "metadata": {
        "id": "TX9n5X-CczuA"
      }
    },
    {
      "cell_type": "markdown",
      "source": [
        "##Q5. How many global scopes are there in a Python program? How many local scopes?\n",
        "\n",
        "Ans .There's only one global Python scope per program execution. This scope remains in existence until the program terminates , and a local scope is created whenever a function is called.\n",
        "\n",
        "##Q6. What happens to variables in a local scope when the function call returns?\n",
        "\n",
        "Ans. When a function returns, the local scope is destroyed.\n",
        "\n",
        "##Q7. What is the concept of a return value? Is it possible to have a return value in an expression?\n",
        "\n",
        "Ans. A return value is the value that a function call evaluates to. Like any value, a return value can be used as part of an expression.\n",
        "\n",
        "##Q8. If a function does not have a return statement, what is the return value of a call to that function?\n",
        "\n",
        "Ans. If the funtion does not have a return statement it will not return anything.\n",
        "\n",
        "##Q9. How do you make a function variable refer to the global variable?\n",
        "\n",
        "Ans. To make function variable as a global variable you can use the global keyword to declare which variables are global.\n",
        "\n",
        "##Q10. What is the data type of None?\n",
        "\n",
        "Ans . The data type of None is NoneType.\n",
        "\n",
        "##Q11. What does the sentence import areallyourpetsnamederic do?\n",
        "\n",
        "Ans .That import statement imports a module named areallyourpetsnamederic. (But a module of this name doesnt exists in Python)\n",
        "\n",
        "##Q12. If you had a bacon() feature in a spam module, what would you call it after importing spam?\n",
        "\n",
        "Ans .import spam\n",
        "spam.bacon()\n",
        "\n",
        "##Q13. What can you do to save a programme from crashing if it encounters an error?\n",
        "\n",
        "Ans. We can use try except clause to save a program from crashing.\n",
        "\n",
        "##Q14. What is the purpose of the try clause? What is the purpose of the except clause?\n",
        "\n",
        "Ans. Try and Except clause is used to handle the errors within our code . The try block is used to check some code for errors i.e the code inside the try block will execute when there is no error in the program. Whereas the code inside the except block will execute whenever the program encounters some error in the try block.\n",
        "\n",
        "Eg. try:\n",
        "\n",
        "Code\n",
        "\n",
        "except:\n",
        "\n",
        "Executed if error in the\n",
        "try block"
      ],
      "metadata": {
        "id": "O773_cu4d-dj"
      }
    },
    {
      "cell_type": "code",
      "source": [],
      "metadata": {
        "id": "25lpg8D6dzRl"
      },
      "execution_count": null,
      "outputs": []
    }
  ]
}
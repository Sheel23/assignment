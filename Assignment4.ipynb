{
  "nbformat": 4,
  "nbformat_minor": 0,
  "metadata": {
    "colab": {
      "provenance": [],
      "authorship_tag": "ABX9TyNskFhfkr5AUCwN61uMOH1d",
      "include_colab_link": true
    },
    "kernelspec": {
      "name": "python3",
      "display_name": "Python 3"
    },
    "language_info": {
      "name": "python"
    }
  },
  "cells": [
    {
      "cell_type": "markdown",
      "metadata": {
        "id": "view-in-github",
        "colab_type": "text"
      },
      "source": [
        "<a href=\"https://colab.research.google.com/github/Sheel23/assignment/blob/main/Assignment4.ipynb\" target=\"_parent\"><img src=\"https://colab.research.google.com/assets/colab-badge.svg\" alt=\"Open In Colab\"/></a>"
      ]
    },
    {
      "cell_type": "markdown",
      "source": [
        "##Q1. What exactly is []?\n",
        "Ans : - [ ] is a empty list, like a =[ ]\n",
        "\n",
        "##Q2. In a list of values stored in a variable called spam, how would you assign the value &#39;hello&#39; as the third value? (Assume [2, 4, 6, 8, 10] are in spam.)"
      ],
      "metadata": {
        "id": "i98Qmg1EfEVd"
      }
    },
    {
      "cell_type": "code",
      "execution_count": 2,
      "metadata": {
        "colab": {
          "base_uri": "https://localhost:8080/"
        },
        "id": "5gBvf8jfe4E4",
        "outputId": "4447be7a-ce45-40bb-b0f9-3b20f0dfcb7c"
      },
      "outputs": [
        {
          "output_type": "execute_result",
          "data": {
            "text/plain": [
              "[2, 4, 'hello', 8, 10]"
            ]
          },
          "metadata": {},
          "execution_count": 2
        }
      ],
      "source": [
        "# solution by changing the value in index 3\n",
        "spam = [2, 4, 6, 8, 10]\n",
        "spam[2] = 'hello'\n",
        "spam\n",
        ""
      ]
    },
    {
      "cell_type": "markdown",
      "source": [
        "Lets pretend the spam includes the list ['a', 'b','c','d'] for the next three queries."
      ],
      "metadata": {
        "id": "JepqKU-XfrRO"
      }
    },
    {
      "cell_type": "markdown",
      "source": [
        "##Q3.What is the value of spam[int(int(&#39;3&#39; * 2) / 11)]?"
      ],
      "metadata": {
        "id": "cnoN7sMmf2ZW"
      }
    },
    {
      "cell_type": "code",
      "source": [
        "spam = ['a', 'b','c','d']\n",
        "spam[int(int('3' * 2) / 11)] # spam[int(33/11)] = spam[3]"
      ],
      "metadata": {
        "colab": {
          "base_uri": "https://localhost:8080/",
          "height": 36
        },
        "id": "HSIRg_i2fh69",
        "outputId": "cf2dc6d5-912a-47f7-ad8d-755c7b8e19b7"
      },
      "execution_count": 3,
      "outputs": [
        {
          "output_type": "execute_result",
          "data": {
            "text/plain": [
              "'d'"
            ],
            "application/vnd.google.colaboratory.intrinsic+json": {
              "type": "string"
            }
          },
          "metadata": {},
          "execution_count": 3
        }
      ]
    },
    {
      "cell_type": "markdown",
      "source": [
        "##Q4.What is the value of spam[-1]?"
      ],
      "metadata": {
        "id": "O26nZJvagKgj"
      }
    },
    {
      "cell_type": "code",
      "source": [
        "spam = ['a', 'b','c','d']\n",
        "spam[-1] # negative index # d"
      ],
      "metadata": {
        "colab": {
          "base_uri": "https://localhost:8080/",
          "height": 36
        },
        "id": "JBONBqdTgF31",
        "outputId": "a3626ac2-fb52-4482-fda8-d7683678c92b"
      },
      "execution_count": 4,
      "outputs": [
        {
          "output_type": "execute_result",
          "data": {
            "text/plain": [
              "'d'"
            ],
            "application/vnd.google.colaboratory.intrinsic+json": {
              "type": "string"
            }
          },
          "metadata": {},
          "execution_count": 4
        }
      ]
    },
    {
      "cell_type": "markdown",
      "source": [
        "##Q.5 What is the value of spam[:2]?"
      ],
      "metadata": {
        "id": "20qOGLM1gJoD"
      }
    },
    {
      "cell_type": "code",
      "source": [
        "spam[:2] # c"
      ],
      "metadata": {
        "colab": {
          "base_uri": "https://localhost:8080/"
        },
        "id": "cEos_IczgXCb",
        "outputId": "80fe6508-f698-452d-c037-eb04f3a8edb7"
      },
      "execution_count": 5,
      "outputs": [
        {
          "output_type": "execute_result",
          "data": {
            "text/plain": [
              "['a', 'b']"
            ]
          },
          "metadata": {},
          "execution_count": 5
        }
      ]
    },
    {
      "cell_type": "markdown",
      "source": [
        "**Let's pretend bacon has the list [3.14, 'cat' 11, 'cat' True] for the next three questions.**"
      ],
      "metadata": {
        "id": "7FWy5hbHge6w"
      }
    },
    {
      "cell_type": "markdown",
      "source": [
        "##Q6.What is the value of bacon.index('cat')?"
      ],
      "metadata": {
        "id": "cAe_sHalgvws"
      }
    },
    {
      "cell_type": "code",
      "source": [
        "bacon = [3.14, 'cat', 11, 'cat', True]\n",
        "bacon.index('cat') # it returns the index of first occurrence of 'cat'\n",
        ""
      ],
      "metadata": {
        "colab": {
          "base_uri": "https://localhost:8080/"
        },
        "id": "EFKdtSvsgd15",
        "outputId": "b24768d4-5c6b-4e51-89a0-3ece35d13d79"
      },
      "execution_count": 6,
      "outputs": [
        {
          "output_type": "execute_result",
          "data": {
            "text/plain": [
              "1"
            ]
          },
          "metadata": {},
          "execution_count": 6
        }
      ]
    },
    {
      "cell_type": "markdown",
      "source": [
        "##Q7.How does bacon.append(99) change the look of the list value in bacon?"
      ],
      "metadata": {
        "id": "MBM3w9iRg6NE"
      }
    },
    {
      "cell_type": "code",
      "source": [
        "bacon = [3.14, 'cat', 11, 'cat', True]\n",
        "bacon.append(99) # append adds the item at the end of the list\n",
        "bacon\n"
      ],
      "metadata": {
        "colab": {
          "base_uri": "https://localhost:8080/"
        },
        "id": "8MPiUbVVg2DB",
        "outputId": "2e4d5228-5cc3-4cb5-a0a0-e79c79b7c7ec"
      },
      "execution_count": 7,
      "outputs": [
        {
          "output_type": "execute_result",
          "data": {
            "text/plain": [
              "[3.14, 'cat', 11, 'cat', True, 99]"
            ]
          },
          "metadata": {},
          "execution_count": 7
        }
      ]
    },
    {
      "cell_type": "markdown",
      "source": [
        "##Q8.How does bacon.remove('cat') change the look of the list in bacon?"
      ],
      "metadata": {
        "id": "TLksW4cFhGvx"
      }
    },
    {
      "cell_type": "code",
      "source": [
        "bacon = [3.14, 'cat', 11, 'cat', True]\n",
        "bacon.remove('cat') # remove first occurrence of item\n",
        "bacon"
      ],
      "metadata": {
        "colab": {
          "base_uri": "https://localhost:8080/"
        },
        "id": "b7TCmqx_hCJU",
        "outputId": "fac1f47a-ad67-4766-d731-6e17112cc879"
      },
      "execution_count": 8,
      "outputs": [
        {
          "output_type": "execute_result",
          "data": {
            "text/plain": [
              "[3.14, 11, 'cat', True]"
            ]
          },
          "metadata": {},
          "execution_count": 8
        }
      ]
    },
    {
      "cell_type": "markdown",
      "source": [
        "##Q9.What are the list concatenation and list replication operators?( * ) is list replication operator ( + ) is list concatination operaton"
      ],
      "metadata": {
        "id": "7yEmzcHXhSLH"
      }
    },
    {
      "cell_type": "code",
      "source": [
        "a1 = [ 1, 4]\n",
        "a2 = [2,5]\n",
        "# list concatination\n",
        "a1+a2"
      ],
      "metadata": {
        "colab": {
          "base_uri": "https://localhost:8080/"
        },
        "id": "13ngyTJhhOGm",
        "outputId": "64247b2f-a45b-4fcd-a8de-51f785063133"
      },
      "execution_count": 10,
      "outputs": [
        {
          "output_type": "execute_result",
          "data": {
            "text/plain": [
              "[1, 4, 2, 5]"
            ]
          },
          "metadata": {},
          "execution_count": 10
        }
      ]
    },
    {
      "cell_type": "code",
      "source": [
        "a1 = [7,4]\n",
        "\n",
        "# list replication\n",
        "a1*3"
      ],
      "metadata": {
        "colab": {
          "base_uri": "https://localhost:8080/"
        },
        "id": "ChjF1rG_huf8",
        "outputId": "7585bfc7-5180-4e93-8209-83fd2361f0de"
      },
      "execution_count": 11,
      "outputs": [
        {
          "output_type": "execute_result",
          "data": {
            "text/plain": [
              "[7, 4, 7, 4, 7, 4]"
            ]
          },
          "metadata": {},
          "execution_count": 11
        }
      ]
    },
    {
      "cell_type": "markdown",
      "source": [
        "##Q10. What is difference between the list methods append() and insert()?\n",
        "append() Appends object to the end of the list\n",
        "\n",
        "insert() Insert object before index\n",
        "\n"
      ],
      "metadata": {
        "id": "R8tZqRaXh-Pn"
      }
    },
    {
      "cell_type": "code",
      "source": [
        "bacon = [3.14, 'cat', 11, 'cat', True]\n",
        "bacon.append(99) # append adds the item at the end of the list\n",
        "bacon"
      ],
      "metadata": {
        "colab": {
          "base_uri": "https://localhost:8080/"
        },
        "id": "cULBMzBYh5VJ",
        "outputId": "d23e6f50-b8db-4ead-d1e5-a0e22a006f87"
      },
      "execution_count": 12,
      "outputs": [
        {
          "output_type": "execute_result",
          "data": {
            "text/plain": [
              "[3.14, 'cat', 11, 'cat', True, 99]"
            ]
          },
          "metadata": {},
          "execution_count": 12
        }
      ]
    },
    {
      "cell_type": "code",
      "source": [
        "# solution by inserting value in 3rd index\n",
        "spam = [2, 4, 6, 8, 10]\n",
        "spam.insert(2,'hello')\n",
        "spam"
      ],
      "metadata": {
        "colab": {
          "base_uri": "https://localhost:8080/"
        },
        "id": "2p2dEg0ZiGb1",
        "outputId": "27a2944b-ff9d-4e3f-ce84-1f29a4665512"
      },
      "execution_count": 13,
      "outputs": [
        {
          "output_type": "execute_result",
          "data": {
            "text/plain": [
              "[2, 4, 'hello', 6, 8, 10]"
            ]
          },
          "metadata": {},
          "execution_count": 13
        }
      ]
    },
    {
      "cell_type": "markdown",
      "source": [
        "##Q11.What are the two methods for removing items from a list?"
      ],
      "metadata": {
        "id": "o4BeQcrsikJv"
      }
    },
    {
      "cell_type": "code",
      "source": [
        "#remove(item) - removeds first occurence of a item\n",
        "bacon = [3.14, 'cat', 11, 'cat', True]\n",
        "bacon.remove('cat')\n",
        "bacon"
      ],
      "metadata": {
        "colab": {
          "base_uri": "https://localhost:8080/"
        },
        "id": "4KH5pNWpiJ7d",
        "outputId": "338aa915-0bbc-4240-8baf-b70c94e7a9a4"
      },
      "execution_count": 14,
      "outputs": [
        {
          "output_type": "execute_result",
          "data": {
            "text/plain": [
              "[3.14, 11, 'cat', True]"
            ]
          },
          "metadata": {},
          "execution_count": 14
        }
      ]
    },
    {
      "cell_type": "code",
      "source": [
        "#pop() - Remove and returns item at index (default last).\n",
        "bacon = [3.14, 'cat', 11, 'cat', True]\n",
        "bacon.pop()\n",
        "bacon"
      ],
      "metadata": {
        "colab": {
          "base_uri": "https://localhost:8080/"
        },
        "id": "RFYbvb2mippl",
        "outputId": "668207d4-1c0e-409b-cbce-a3945d84082b"
      },
      "execution_count": 15,
      "outputs": [
        {
          "output_type": "execute_result",
          "data": {
            "text/plain": [
              "[3.14, 'cat', 11, 'cat']"
            ]
          },
          "metadata": {},
          "execution_count": 15
        }
      ]
    },
    {
      "cell_type": "markdown",
      "source": [
        "##Q12.Describe how list values and string values are identical.\n",
        "\n",
        "1.Both lists and strings can be passed to len().\n",
        "\n",
        "2.Have indexes and slices.\n",
        "\n",
        "3.Can be used in for loops.\n",
        "\n",
        "4.Can be concatenated or replicated.\n",
        "\n",
        "5.Can be used with the in and not in operators."
      ],
      "metadata": {
        "id": "LyOkJkaJi1-G"
      }
    },
    {
      "cell_type": "markdown",
      "source": [
        "##Q13.What's the difference between tuples and lists?\n",
        "Lists : are mutable - they can have values added, removed, or changed. lists use the square brackets, [ and ]\n",
        "\n",
        "Tuples : are immutable; they cannot be changed at all. Tuples are written using parentheses, ( and )"
      ],
      "metadata": {
        "id": "aPQJIkL1jxUc"
      }
    },
    {
      "cell_type": "markdown",
      "source": [
        "##Q14.How do you type a tuple value that only contains the integer 42?"
      ],
      "metadata": {
        "id": "kaEvmtfsj70L"
      }
    },
    {
      "cell_type": "code",
      "source": [
        "tuple = (42,)\n",
        "tuple"
      ],
      "metadata": {
        "colab": {
          "base_uri": "https://localhost:8080/"
        },
        "id": "PcBWA6_Eis1j",
        "outputId": "004a2253-0c38-499e-c074-192c6d63d594"
      },
      "execution_count": 16,
      "outputs": [
        {
          "output_type": "execute_result",
          "data": {
            "text/plain": [
              "(42,)"
            ]
          },
          "metadata": {},
          "execution_count": 16
        }
      ]
    },
    {
      "cell_type": "markdown",
      "source": [
        "##Q15.How do you get a list value's tuple form? How do you get a tuple value's list form?"
      ],
      "metadata": {
        "id": "MXnVzLL-kFB-"
      }
    },
    {
      "cell_type": "code",
      "source": [
        "l1 = [2,3]\n",
        "l = tuple(l1)\n",
        "l"
      ],
      "metadata": {
        "id": "Ab_CM8bAkBEI"
      },
      "execution_count": 34,
      "outputs": []
    },
    {
      "cell_type": "markdown",
      "source": [
        "out put:(2,3)"
      ],
      "metadata": {
        "id": "RLFTRCt74Suy"
      }
    },
    {
      "cell_type": "code",
      "source": [
        "t1 = (3,4)\n",
        "t = list(t1)\n",
        "t"
      ],
      "metadata": {
        "colab": {
          "base_uri": "https://localhost:8080/"
        },
        "id": "IYNnug9xkKqO",
        "outputId": "3c49de19-9e12-414e-acd9-8ed0dbcba101"
      },
      "execution_count": 21,
      "outputs": [
        {
          "output_type": "execute_result",
          "data": {
            "text/plain": [
              "[3, 4]"
            ]
          },
          "metadata": {},
          "execution_count": 21
        }
      ]
    },
    {
      "cell_type": "markdown",
      "source": [
        "##Q16.Variables that \"contain\" list values are not necessarily lists themselves. Instead, what do they contain?\n",
        "\n",
        "Ans. They contain references to list values."
      ],
      "metadata": {
        "id": "hUwqdaaslSmR"
      }
    },
    {
      "cell_type": "markdown",
      "source": [
        "##Q17.How do you distinguish between copy.copy() and copy.deepcopy()?\n",
        "\n",
        "Ans . The copy.copy() function will do a shallow copy of a list,\n",
        "The copy.deepcopy() function will do a deep copy of a list. only copy.deepcopy() will duplicate any lists inside the list."
      ],
      "metadata": {
        "id": "sJkxb7t7le-1"
      }
    },
    {
      "cell_type": "code",
      "source": [],
      "metadata": {
        "id": "nTK4UNNWlGjH"
      },
      "execution_count": null,
      "outputs": []
    }
  ]
}
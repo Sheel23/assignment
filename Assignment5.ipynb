{
  "metadata": {
    "language_info": {
      "codemirror_mode": {
        "name": "python",
        "version": 3
      },
      "file_extension": ".py",
      "mimetype": "text/x-python",
      "name": "python",
      "nbconvert_exporter": "python",
      "pygments_lexer": "ipython3",
      "version": "3.8"
    },
    "kernelspec": {
      "name": "python",
      "display_name": "Python (Pyodide)",
      "language": "python"
    }
  },
  "nbformat_minor": 4,
  "nbformat": 4,
  "cells": [
    {
      "cell_type": "markdown",
      "source": "Q 1. What does an empty dictionary's code look like?",
      "metadata": {}
    },
    {
      "cell_type": "code",
      "source": "dict = {}\ntype(dict)",
      "metadata": {
        "trusted": true
      },
      "execution_count": 2,
      "outputs": [
        {
          "execution_count": 2,
          "output_type": "execute_result",
          "data": {
            "text/plain": "dict"
          },
          "metadata": {}
        }
      ]
    },
    {
      "cell_type": "markdown",
      "source": "Q2. What is the value of a dictionary value with the key 'foo' and the value 42?",
      "metadata": {}
    },
    {
      "cell_type": "code",
      "source": "{'foo':42}",
      "metadata": {
        "trusted": true
      },
      "execution_count": 4,
      "outputs": [
        {
          "execution_count": 4,
          "output_type": "execute_result",
          "data": {
            "text/plain": "{'foo': 42}"
          },
          "metadata": {}
        }
      ]
    },
    {
      "cell_type": "markdown",
      "source": "Q3 . What is the most significant distinction between a dictionary and a list?\n\nMost significant difference:\n    \nList - items in list are Ordered\n\nDictionary : iten in dictionary are unordered",
      "metadata": {}
    },
    {
      "cell_type": "markdown",
      "source": "Q4. What happens if you try to access spam['foo'] if spam is {'bar': 100}?",
      "metadata": {}
    },
    {
      "cell_type": "markdown",
      "source": "spam = {'bar':100}\nspam['foo']\n#This will give us key error",
      "metadata": {}
    },
    {
      "cell_type": "markdown",
      "source": "Q5.If a dictionary is stored in spam, what is the difference between the expressions 'cat' in spam and 'cat' in spam.keys()?",
      "metadata": {}
    },
    {
      "cell_type": "code",
      "source": "\nspam ={'cat':100}\n'cat' in spam",
      "metadata": {
        "trusted": true
      },
      "execution_count": 13,
      "outputs": [
        {
          "execution_count": 13,
          "output_type": "execute_result",
          "data": {
            "text/plain": "True"
          },
          "metadata": {}
        }
      ]
    },
    {
      "cell_type": "code",
      "source": "'cat' in spam.keys()\n#There is no differnce, both check if 'cat' is key of the dictionary and if its a key, returns True.",
      "metadata": {
        "trusted": true
      },
      "execution_count": 14,
      "outputs": [
        {
          "execution_count": 14,
          "output_type": "execute_result",
          "data": {
            "text/plain": "True"
          },
          "metadata": {}
        }
      ]
    },
    {
      "cell_type": "markdown",
      "source": "Q6. If a dictionary is stored in spam, what is the difference between the expressions 'cat' in spam and 'cat' in spam.values()?",
      "metadata": {}
    },
    {
      "cell_type": "code",
      "source": "spam ={'cat':100}\n'cat' in spam",
      "metadata": {
        "trusted": true
      },
      "execution_count": 15,
      "outputs": [
        {
          "execution_count": 15,
          "output_type": "execute_result",
          "data": {
            "text/plain": "True"
          },
          "metadata": {}
        }
      ]
    },
    {
      "cell_type": "code",
      "source": "spam ={'cat':100}\n'cat' in spam.values()\n\n#'cat' in spam checks whether there is a 'cat' key in the dictionary\n#'cat' in spam.values() checks whether there is a value 'cat' for one of the keys in spam.",
      "metadata": {
        "trusted": true
      },
      "execution_count": 16,
      "outputs": [
        {
          "execution_count": 16,
          "output_type": "execute_result",
          "data": {
            "text/plain": "False"
          },
          "metadata": {}
        }
      ]
    },
    {
      "cell_type": "markdown",
      "source": "Q7.What is a shortcut for the following code?",
      "metadata": {}
    },
    {
      "cell_type": "code",
      "source": "\nspam ={'cat':100}\nspam.setdefault('color','black')\nspam",
      "metadata": {
        "trusted": true
      },
      "execution_count": 17,
      "outputs": [
        {
          "execution_count": 17,
          "output_type": "execute_result",
          "data": {
            "text/plain": "{'cat': 100, 'color': 'black'}"
          },
          "metadata": {}
        }
      ]
    },
    {
      "cell_type": "markdown",
      "source": "Q8.How do you 'pretty print' dictionary values using which module and function?",
      "metadata": {}
    },
    {
      "cell_type": "code",
      "source": "import pprint\ndct = [ {'Name': 'Shiva', 'Age': '23', 'Country': 'India'},\n  {'Name': 'Anna', 'Age': '44', 'Country': 'China'},\n  {'Name': 'Joe', 'Age': '29', 'Country': 'UK'},\n  {'Name': 'Chumlee', 'Age': '35', 'Country': 'USA'}\n]\n ",
      "metadata": {
        "trusted": true
      },
      "execution_count": 19,
      "outputs": []
    },
    {
      "cell_type": "code",
      "source": "# printing with pprint()\npprint.pprint(dct)",
      "metadata": {
        "trusted": true
      },
      "execution_count": 20,
      "outputs": [
        {
          "name": "stdout",
          "text": "[{'Age': '23', 'Country': 'India', 'Name': 'Shiva'},\n {'Age': '44', 'Country': 'China', 'Name': 'Anna'},\n {'Age': '29', 'Country': 'UK', 'Name': 'Joe'},\n {'Age': '35', 'Country': 'USA', 'Name': 'Chumlee'}]\n",
          "output_type": "stream"
        }
      ]
    },
    {
      "cell_type": "code",
      "source": "#Printing with print()\nprint(dct)",
      "metadata": {
        "trusted": true
      },
      "execution_count": 22,
      "outputs": [
        {
          "name": "stdout",
          "text": "[{'Name': 'Shiva', 'Age': '23', 'Country': 'India'}, {'Name': 'Anna', 'Age': '44', 'Country': 'China'}, {'Name': 'Joe', 'Age': '29', 'Country': 'UK'}, {'Name': 'Chumlee', 'Age': '35', 'Country': 'USA'}]\n",
          "output_type": "stream"
        }
      ]
    },
    {
      "cell_type": "code",
      "source": "",
      "metadata": {},
      "execution_count": null,
      "outputs": []
    }
  ]
}
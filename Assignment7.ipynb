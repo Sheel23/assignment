{
  "nbformat": 4,
  "nbformat_minor": 0,
  "metadata": {
    "colab": {
      "provenance": [],
      "authorship_tag": "ABX9TyOdaab2aWkWN1SQ6SCa8bHk",
      "include_colab_link": true
    },
    "kernelspec": {
      "name": "python3",
      "display_name": "Python 3"
    },
    "language_info": {
      "name": "python"
    }
  },
  "cells": [
    {
      "cell_type": "markdown",
      "metadata": {
        "id": "view-in-github",
        "colab_type": "text"
      },
      "source": [
        "<a href=\"https://colab.research.google.com/github/Sheel23/assignment/blob/main/Assignment7.ipynb\" target=\"_parent\"><img src=\"https://colab.research.google.com/assets/colab-badge.svg\" alt=\"Open In Colab\"/></a>"
      ]
    },
    {
      "cell_type": "markdown",
      "source": [
        "##Q.1. Create two int type variables, apply addition, subtraction, division and multiplications and store the results in variables. Then print the data in the following format by calling the variables:\n",
        "\n"
      ],
      "metadata": {
        "id": "dzywSrREhQrj"
      }
    },
    {
      "cell_type": "code",
      "execution_count": 2,
      "metadata": {
        "colab": {
          "base_uri": "https://localhost:8080/"
        },
        "id": "BBJTTZmThCnJ",
        "outputId": "02c25b9d-e8af-4137-81c2-c14b036f5276"
      },
      "outputs": [
        {
          "output_type": "stream",
          "name": "stdout",
          "text": [
            "First variable is 10 and second variable is 5\n",
            "Addition: 10 + 5 = 15\n",
            "Subtraction: 10 - 5 = 5\n",
            "Multiplication: 10 * 5 = 50\n",
            "Division: 10 / 5 = 2.0\n"
          ]
        }
      ],
      "source": [
        "# Create two int type variables\n",
        "num1 = 10\n",
        "num2 = 5\n",
        "\n",
        "# Perform addition, subtraction, division, and multiplication\n",
        "addition = num1 + num2\n",
        "subtraction = num1 - num2\n",
        "division = num1 / num2\n",
        "multiplication = num1 * num2\n",
        "\n",
        "# Print the data in the desired format\n",
        "print(\"First variable is\", num1, \"and second variable is\", num2)\n",
        "print(\"Addition: {} + {} = {}\".format(num1, num2, addition))\n",
        "print(\"Subtraction: {} - {} = {}\".format(num1, num2, subtraction))\n",
        "print(\"Multiplication: {} * {} = {}\".format(num1, num2, multiplication))\n",
        "print(\"Division: {} / {} = {}\".format(num1, num2, division))\n"
      ]
    },
    {
      "cell_type": "markdown",
      "source": [
        "In the code above, we create two int type variables num1 and num2 with the values 10 and 5, respectively. We then perform addition, subtraction, division, and multiplication operations on these variables and store the results in separate variables (addition, subtraction, division, multiplication)."
      ],
      "metadata": {
        "id": "FIaws2Ffh8qH"
      }
    },
    {
      "cell_type": "markdown",
      "source": [
        "##Q.2. What is the difference between the following operators:\n",
        "##(i) ‘/’ & ‘//’\n",
        "\n",
        "##(ii) ‘**’ & ‘^’\n",
        "\n",
        "\n",
        "(i) Difference between '/' & '//':\n",
        "\n",
        "The '/' operator is used for division in Python and returns the quotient as a floating-point number.\n",
        "The '//' operator, known as the floor division operator, performs division and returns the quotient as an integer, discarding any fractional part."
      ],
      "metadata": {
        "id": "RNKn59qpibtM"
      }
    },
    {
      "cell_type": "code",
      "source": [
        "#Example\n",
        "a = 10\n",
        "b = 3\n",
        "\n",
        "result1 = a / b\n",
        "result2 = a // b\n",
        "\n",
        "print(result1)\n",
        "print(result2)\n"
      ],
      "metadata": {
        "colab": {
          "base_uri": "https://localhost:8080/"
        },
        "id": "A4UoJN5jixhs",
        "outputId": "99b85f86-7480-4bd4-f1c3-a3fc45c6c824"
      },
      "execution_count": 6,
      "outputs": [
        {
          "output_type": "stream",
          "name": "stdout",
          "text": [
            "3.3333333333333335\n",
            "3\n"
          ]
        }
      ]
    },
    {
      "cell_type": "markdown",
      "source": [
        "(ii) Difference between '**' & '^':\n",
        "\n",
        "The '**' operator is used for exponentiation in Python and raises a number to a power.\n",
        "The '^' operator, also known as the bitwise XOR operator, is used for bitwise XOR operation, which performs an XOR operation between the binary representations of two numbers."
      ],
      "metadata": {
        "id": "Udqoone8i4RT"
      }
    },
    {
      "cell_type": "code",
      "source": [
        "#Example\n",
        "a = 2\n",
        "b = 3\n",
        "\n",
        "result1 = a ** b\n",
        "result2 = a ^ b\n",
        "\n",
        "print(result1)\n",
        "print(result2)\n"
      ],
      "metadata": {
        "colab": {
          "base_uri": "https://localhost:8080/"
        },
        "id": "7rHotJb4jFWO",
        "outputId": "3704b3e9-b562-42a8-b47d-2996938657fc"
      },
      "execution_count": 7,
      "outputs": [
        {
          "output_type": "stream",
          "name": "stdout",
          "text": [
            "8\n",
            "1\n"
          ]
        }
      ]
    },
    {
      "cell_type": "markdown",
      "source": [
        "##Q.3. List the logical operators.\n",
        "\n",
        "The logical operators in Python are:\n",
        "\n",
        "and:\n",
        "\n",
        "The and operator returns True if both operands are true, otherwise, it returns False. It performs a logical conjunction.\n",
        "\n",
        "or:\n",
        "\n",
        " The or operator returns True if at least one of the operands is true, otherwise, it returns False. It performs a logical disjunction.\n",
        "\n",
        "not:\n",
        "\n",
        "The not operator is a unary operator that returns the opposite boolean value of its operand. If the operand is True, not returns False, and if the operand is False, not returns True. It performs logical negation.\n",
        "\n",
        "These logical operators are used to perform logical operations on boolean values or expressions. They can be used to combine or modify the outcome of logical conditions in control flow statements, conditional expressions, or boolean expressions in general."
      ],
      "metadata": {
        "id": "1V0bcohVibpk"
      }
    },
    {
      "cell_type": "markdown",
      "source": [
        "##Q.4. Explain right shift operator and left shift operator with examples.\n",
        "\n",
        "The right shift operator (>>) and the left shift operator (<<) are bitwise operators in Python that shift the bits of a binary number to the right or left, respectively. These operators operate on the individual bits of a number, allowing you to perform bitwise operations.\n",
        "\n",
        "Right Shift Operator (>>):\n",
        "\n",
        "The right shift operator (>>) shifts the bits of a number to the right by a specified number of positions.\n",
        "It effectively divides the number by 2 raised to the power of the specified number of positions and discards the rightmost bits.\n",
        "The rightmost bit is filled with the sign bit (0 for positive numbers, 1 for negative numbers) or zero.\n",
        "The syntax for the right shift operator is number >> n, where number is the value to be shifted, and n is the number of positions to shift."
      ],
      "metadata": {
        "id": "pLT7pFMgjz-3"
      }
    },
    {
      "cell_type": "code",
      "source": [
        "#example\n",
        "number = 12  # Binary: 1100\n",
        "\n",
        "result = number >> 2\n",
        "print(result)\n"
      ],
      "metadata": {
        "colab": {
          "base_uri": "https://localhost:8080/"
        },
        "id": "Gy_I2mSZhxj-",
        "outputId": "309f657d-3472-43aa-e549-ce1e10d3cc6a"
      },
      "execution_count": 9,
      "outputs": [
        {
          "output_type": "stream",
          "name": "stdout",
          "text": [
            "3\n"
          ]
        }
      ]
    },
    {
      "cell_type": "markdown",
      "source": [
        "Left Shift Operator (<<):\n",
        "\n",
        "The left shift operator (<<) shifts the bits of a number to the left by a specified number of positions.\n",
        "It effectively multiplies the number by 2 raised to the power of the specified number of positions.\n",
        "The leftmost bits are discarded, and the empty positions on the right are filled with zeros.\n",
        "The syntax for the left shift operator is number << n, where number is the value to be shifted, and n is the number of positions to shift."
      ],
      "metadata": {
        "id": "cCJmGzjVkEY_"
      }
    },
    {
      "cell_type": "code",
      "source": [
        "number = 5  # Binary: 101\n",
        "\n",
        "result = number << 2\n",
        "print(result)\n"
      ],
      "metadata": {
        "colab": {
          "base_uri": "https://localhost:8080/"
        },
        "id": "NZdIbX77kBuN",
        "outputId": "66d0c247-e098-4995-d174-c24c29e821b8"
      },
      "execution_count": 10,
      "outputs": [
        {
          "output_type": "stream",
          "name": "stdout",
          "text": [
            "20\n"
          ]
        }
      ]
    },
    {
      "cell_type": "markdown",
      "source": [
        "##Q.5. Create a list containing int type data of length 15. Then write a code to check if 10 is present in the list or not."
      ],
      "metadata": {
        "id": "LU4LJekZke3L"
      }
    },
    {
      "cell_type": "code",
      "source": [
        "# Create a list containing int type data of length 15\n",
        "my_list = [2, 5, 8, 10, 15, 20, 25, 30, 35, 40, 45, 50, 55, 60, 65]\n",
        "\n",
        "# Check if 10 is present in the list\n",
        "if 10 in my_list:\n",
        "    print(\"10 is present in the list\")\n",
        "else:\n",
        "    print(\"10 is not present in the list\")\n"
      ],
      "metadata": {
        "colab": {
          "base_uri": "https://localhost:8080/"
        },
        "id": "X6CahDUfkM-A",
        "outputId": "60d11633-c6d8-44fe-c75a-3c27fe89d77b"
      },
      "execution_count": 11,
      "outputs": [
        {
          "output_type": "stream",
          "name": "stdout",
          "text": [
            "10 is present in the list\n"
          ]
        }
      ]
    },
    {
      "cell_type": "code",
      "source": [],
      "metadata": {
        "id": "-5_Hu-1KkYz9"
      },
      "execution_count": null,
      "outputs": []
    }
  ]
}
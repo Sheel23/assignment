{
  "nbformat": 4,
  "nbformat_minor": 0,
  "metadata": {
    "colab": {
      "provenance": [],
      "authorship_tag": "ABX9TyMK+hcl7k4hA78XO11fW2Bg",
      "include_colab_link": true
    },
    "kernelspec": {
      "name": "python3",
      "display_name": "Python 3"
    },
    "language_info": {
      "name": "python"
    }
  },
  "cells": [
    {
      "cell_type": "markdown",
      "metadata": {
        "id": "view-in-github",
        "colab_type": "text"
      },
      "source": [
        "<a href=\"https://colab.research.google.com/github/Sheel23/assignment/blob/main/Assignment_6.ipynb\" target=\"_parent\"><img src=\"https://colab.research.google.com/assets/colab-badge.svg\" alt=\"Open In Colab\"/></a>"
      ]
    },
    {
      "cell_type": "markdown",
      "source": [
        "##Q.1.hat are keywords in python? Using the keyword library, print all the python keywords.\n",
        "\n",
        "n Python, keywords are reserved words that have predefined meanings and cannot be used as identifiers. These keywords are part of the Python language syntax and are used to define the structure and logic of the code.\n",
        "To print all the Python keywords, you can use the keyword library and its kwlist attribute."
      ],
      "metadata": {
        "id": "ZkVrO3t-PMSO"
      }
    },
    {
      "cell_type": "code",
      "execution_count": 1,
      "metadata": {
        "colab": {
          "base_uri": "https://localhost:8080/"
        },
        "id": "5OdwsOcuPHZG",
        "outputId": "4d41c04d-c4c6-466e-dda4-2ae17800a19d"
      },
      "outputs": [
        {
          "output_type": "stream",
          "name": "stdout",
          "text": [
            "False\n",
            "None\n",
            "True\n",
            "and\n",
            "as\n",
            "assert\n",
            "async\n",
            "await\n",
            "break\n",
            "class\n",
            "continue\n",
            "def\n",
            "del\n",
            "elif\n",
            "else\n",
            "except\n",
            "finally\n",
            "for\n",
            "from\n",
            "global\n",
            "if\n",
            "import\n",
            "in\n",
            "is\n",
            "lambda\n",
            "nonlocal\n",
            "not\n",
            "or\n",
            "pass\n",
            "raise\n",
            "return\n",
            "try\n",
            "while\n",
            "with\n",
            "yield\n"
          ]
        }
      ],
      "source": [
        "import keyword\n",
        "\n",
        "# Get the list of Python keywords\n",
        "keywords = keyword.kwlist\n",
        "\n",
        "# Print all the keywords\n",
        "for keyword in keywords:\n",
        "    print(keyword)\n"
      ]
    },
    {
      "cell_type": "markdown",
      "source": [
        "##Q.2. What are the rules to create variables in python?\n",
        "\n",
        "In Python, variables are used to store data values and provide a way to refer to these values by a name. Here are the rules to create variables in Python\n",
        "\n",
        "Variable Names:\n",
        "\n",
        "Variable names can contain letters (a-z, A-Z), digits (0-9), and underscores (_).\n",
        "The first character of a variable name cannot be a digit.\n",
        "Variable names are case-sensitive, meaning myVariable and myvariable are considered different variables.\n",
        "Variable names should be descriptive and meaningful, helping to understand the purpose of the variable.\n",
        "\n",
        "Reserved Keywords:\n",
        "\n",
        "You cannot use reserved keywords EXample:-if, for, while, def, class,and so on  as variable names since they have predefined meanings in Python.\n",
        "\n",
        "Naming Convention:\n",
        "\n",
        "It is recommended to follow the Python naming conventions, known as \"snake_case.\"\n",
        "Use lowercase letters for variable names.\n",
        "If a variable name contains multiple words, separate them with underscores.\n",
        "Example: my_variable, count, total_sum, first_name, etc.\n",
        "Avoid Built-in Function Names:\n",
        "\n",
        "It is advisable not to use the names of built-in functions or modules as variable names to avoid conflicts.\n",
        "\n",
        "Examples of built-in functions include print(), input(), str(), int(), etc."
      ],
      "metadata": {
        "id": "B33nby7bPp1C"
      }
    },
    {
      "cell_type": "markdown",
      "source": [],
      "metadata": {
        "id": "wNqCBiJXPlzs"
      }
    },
    {
      "cell_type": "code",
      "source": [
        "#valid variable name examples:\n",
        "name = \"SATYA SHEEL\"\n",
        "age = 25\n",
        "total_sum = 10 + 20\n",
        "is_valid = True\n"
      ],
      "metadata": {
        "id": "Wq998ngHPj1S"
      },
      "execution_count": 3,
      "outputs": []
    },
    {
      "cell_type": "markdown",
      "source": [
        "##Q.3. What are the standards and conventions followed for the nomenclature of variables in python to improve code readability and maintainability?\n",
        "\n",
        "In Python, there are standard naming conventions and conventions followed by the Python community to improve code readability and maintainability.\n",
        "\n",
        "Snake Case:\n",
        "\n",
        "Use lowercase letters for variable names.\n",
        "Separate words with underscores (_) for improved readability.\n",
        "Example: my_variable, total_sum, first_name, etc.\n",
        "Descriptive Names:\n",
        "\n",
        "Choose variable names that are descriptive and indicate the purpose or content of the variable.\n",
        "\n",
        "Avoid using generic names like a, b, x, etc., unless they have a clear meaning in the context.\n",
        "\n",
        "Examples: num_items, customer_name, is_valid, etc.\n",
        "Avoid Single-letter Names:\n",
        "\n",
        "Except in specific cases like loop variables, try to avoid using single-letter variable names.\n",
        "Using meaningful names improves code readability and makes it easier to understand the purpose of the variable.\n",
        "\n",
        "Constants:\n",
        "\n",
        "For variables intended to hold constant values, use uppercase letters with underscores to separate words.\n",
        "Example: PI = 3.14, MAX_VALUE = 100.\n",
        "\n",
        "Function and Method Names:\n",
        "\n",
        "Use lowercase letters and underscores for function and method names.\n",
        "Follow the same naming conventions as variables.\n",
        "Examples: calculate_sum(), process_data(), is_valid_input(), etc.\n",
        "\n",
        "Class Names:\n",
        "\n",
        "Use CamelCase for class names, where each word starts with an uppercase letter.\n",
        "Example: CustomerData, BankAccount, UserPreferences, etc.\n",
        "\n",
        "Module and Package Names:\n",
        "\n",
        "Use lowercase letters and underscores for module and package names.\n",
        "Keep the names concise and meaningful.\n",
        "Example: my_module.py, data_processing.py, utils, etc.\n",
        "\n",
        "Avoid Confusing Names:\n",
        "\n",
        "Avoid using names that are easily confused with existing Python built-in functions or modules.\n",
        "Be cautious while using names like list, str, file, etc."
      ],
      "metadata": {
        "id": "6L8kIjUHQaoR"
      }
    },
    {
      "cell_type": "markdown",
      "source": [
        "##Q.4. What will happen if a keyword is used as a variable name?\n",
        "If a keyword is used as a variable name in Python, it will result in a syntax error. Python reserves keywords for specific purposes and they cannot be used as identifiers such as variable names, function names, or class names."
      ],
      "metadata": {
        "id": "Bb8TpKb-TX9U"
      }
    },
    {
      "cell_type": "code",
      "source": [
        "#Example\n",
        "if = 10  # Using 'if' as a variable name\n",
        "# here this example give syntax error\n"
      ],
      "metadata": {
        "colab": {
          "base_uri": "https://localhost:8080/",
          "height": 130
        },
        "id": "Vj8xMwpoQWBp",
        "outputId": "cf84f085-4ae4-41a1-9392-2b0affc1cd26"
      },
      "execution_count": 5,
      "outputs": [
        {
          "output_type": "error",
          "ename": "SyntaxError",
          "evalue": "ignored",
          "traceback": [
            "\u001b[0;36m  File \u001b[0;32m\"<ipython-input-5-27b5a42a8ee7>\"\u001b[0;36m, line \u001b[0;32m2\u001b[0m\n\u001b[0;31m    if = 10  # Using 'if' as a variable name\u001b[0m\n\u001b[0m       ^\u001b[0m\n\u001b[0;31mSyntaxError\u001b[0m\u001b[0;31m:\u001b[0m invalid syntax\n"
          ]
        }
      ]
    },
    {
      "cell_type": "markdown",
      "source": [
        "##Q.5. For what purpose def keyword is used?\n",
        "\n",
        "In Python, the def keyword is used to define a function. Functions are blocks of reusable code that perform specific tasks. The def keyword is followed by the function name and a pair of parentheses.\n",
        "\n",
        "The def keyword is used to indicate the start of a function definition. It allows you to create your own functions with custom names and functionality. Functions help in modularizing code, promoting code reuse, and improving the overall structure and organization of a program."
      ],
      "metadata": {
        "id": "xw4Xw2h-TwHM"
      }
    },
    {
      "cell_type": "code",
      "source": [
        "def add_numbers(a, b):\n",
        "    sum = a + b\n",
        "    return sum\n"
      ],
      "metadata": {
        "id": "5Tw2g_H7Tr4H"
      },
      "execution_count": 6,
      "outputs": []
    },
    {
      "cell_type": "code",
      "source": [
        "result = add_numbers(5, 3)\n",
        "print(result)\n"
      ],
      "metadata": {
        "colab": {
          "base_uri": "https://localhost:8080/"
        },
        "id": "LCl09VC5UYbU",
        "outputId": "720a8ca5-44a3-42c0-e975-54c81274cf37"
      },
      "execution_count": 7,
      "outputs": [
        {
          "output_type": "stream",
          "name": "stdout",
          "text": [
            "8\n"
          ]
        }
      ]
    },
    {
      "cell_type": "markdown",
      "source": [
        "##Q.6. What is the operation of this special character ‘\\’?\n",
        "\n",
        "n Python, the special character '' is known as the escape character. It is used to include special characters within strings and represent certain non-printable or special characters. When the escape character is followed by another character, it creates an escape sequence that has a specific meaning in Python.\n"
      ],
      "metadata": {
        "id": "yR-SwhETUdq0"
      }
    },
    {
      "cell_type": "code",
      "source": [
        "# Example\n",
        "#\\n: Newline\n",
        "print(\"Hello\\nWorld\")"
      ],
      "metadata": {
        "colab": {
          "base_uri": "https://localhost:8080/"
        },
        "id": "bCDjgfJpUb4a",
        "outputId": "49b907e6-59dd-40b5-e13b-feb1a56a4834"
      },
      "execution_count": 9,
      "outputs": [
        {
          "output_type": "stream",
          "name": "stdout",
          "text": [
            "Hello\n",
            "World\n"
          ]
        }
      ]
    },
    {
      "cell_type": "code",
      "source": [
        "#Example\n",
        "#\\t: Tab\n",
        "print(\"Name:\\tJohn\")"
      ],
      "metadata": {
        "colab": {
          "base_uri": "https://localhost:8080/"
        },
        "id": "Gh3ulZeBVJjT",
        "outputId": "62f1c3d6-aa51-4770-a346-9ffb9cef7b03"
      },
      "execution_count": 10,
      "outputs": [
        {
          "output_type": "stream",
          "name": "stdout",
          "text": [
            "Name:\tJohn\n"
          ]
        }
      ]
    },
    {
      "cell_type": "code",
      "source": [
        "#Example\n",
        "#\": Double Quote\n",
        "print(\"She said, \\\"Hello!\\\"\")"
      ],
      "metadata": {
        "colab": {
          "base_uri": "https://localhost:8080/"
        },
        "id": "ANg4OwbdWJUc",
        "outputId": "e268c2de-4bbc-484c-932b-e5e106f7bc5e"
      },
      "execution_count": 11,
      "outputs": [
        {
          "output_type": "stream",
          "name": "stdout",
          "text": [
            "She said, \"Hello!\"\n"
          ]
        }
      ]
    },
    {
      "cell_type": "code",
      "source": [
        "#Example\n",
        "#': Single Quote\n",
        "print('He\\'s happy')"
      ],
      "metadata": {
        "colab": {
          "base_uri": "https://localhost:8080/"
        },
        "id": "Q5_0DdTSWU17",
        "outputId": "f0024777-e99b-4da4-dde2-b9812b8313ef"
      },
      "execution_count": 12,
      "outputs": [
        {
          "output_type": "stream",
          "name": "stdout",
          "text": [
            "He's happy\n"
          ]
        }
      ]
    },
    {
      "cell_type": "markdown",
      "source": [
        "##Q.7. Give an example of the following conditions:\n",
        "(i) Homogeneous list\n",
        "\n",
        "(ii) Heterogeneous set\n",
        "\n",
        "(iii) Homogeneous tuple\n",
        "\n",
        "\n",
        "(i) Homogeneous list:\n",
        "A homogeneous list in Python is a list where all elements have the same data type.Example of a homogeneous list containing integers:\n",
        "\n"
      ],
      "metadata": {
        "id": "O30n0i90XuMc"
      }
    },
    {
      "cell_type": "code",
      "source": [
        "numbers = [1, 2, 3, 4, 5]\n",
        "print(numbers)"
      ],
      "metadata": {
        "colab": {
          "base_uri": "https://localhost:8080/"
        },
        "id": "EtSozk1kWiKO",
        "outputId": "b18eafd0-7b91-4123-8f0a-bd666b55561a"
      },
      "execution_count": 13,
      "outputs": [
        {
          "output_type": "stream",
          "name": "stdout",
          "text": [
            "[1, 2, 3, 4, 5]\n"
          ]
        }
      ]
    },
    {
      "cell_type": "markdown",
      "source": [
        "(ii) Heterogeneous set:\n",
        "A heterogeneous set in Python is a set where the elements can have different data types. Example of a heterogeneous set:"
      ],
      "metadata": {
        "id": "ep_C0akDZLvs"
      }
    },
    {
      "cell_type": "code",
      "source": [
        "my_set = {1, \"two\", 3.14, True}\n",
        "print(my_set)"
      ],
      "metadata": {
        "colab": {
          "base_uri": "https://localhost:8080/"
        },
        "id": "NOKHjogsZKUe",
        "outputId": "c1cc747e-b345-42ce-be4f-391d8e74e78d"
      },
      "execution_count": 14,
      "outputs": [
        {
          "output_type": "stream",
          "name": "stdout",
          "text": [
            "{1, 3.14, 'two'}\n"
          ]
        }
      ]
    },
    {
      "cell_type": "markdown",
      "source": [
        "(iii) Homogeneous tuple:\n",
        "A homogeneous tuple in Python is a tuple where all elements have the same data type.Example of a homogeneous tuple containing strings:\n",
        "\n"
      ],
      "metadata": {
        "id": "3dhkzqP7ZgoD"
      }
    },
    {
      "cell_type": "code",
      "source": [
        "names = (\"Raju\", \"Ankit\", \"Ravi\", \"Rahul\")\n",
        "print(names)"
      ],
      "metadata": {
        "colab": {
          "base_uri": "https://localhost:8080/"
        },
        "id": "rkYLj04EZaUs",
        "outputId": "952aebcb-ce35-4e6a-b0af-fbdf7b8508c4"
      },
      "execution_count": 15,
      "outputs": [
        {
          "output_type": "stream",
          "name": "stdout",
          "text": [
            "('Raju', 'Ankit', 'Ravi', 'Rahul')\n"
          ]
        }
      ]
    },
    {
      "cell_type": "markdown",
      "source": [
        "##Q.8. Explain the mutable and immutable data types with proper explanation & examples.\n",
        "\n",
        "In Python, data types can be categorized as either mutable or immutable. This classification refers to whether the value of an object can be changed after it is created. Understanding mutable and immutable data types is important as it affects how variables behave and how you work with data in Python.\n",
        "\n",
        "Immutable Data Types:\n",
        "\n",
        "Immutable objects are those whose value cannot be changed once they are created.\n",
        "If you modify an immutable object, it actually creates a new object with the modified value.\n",
        "Examples of immutable data types in Python include integers, floats, booleans, strings, and tuples."
      ],
      "metadata": {
        "id": "GtzUyG6wZ5-n"
      }
    },
    {
      "cell_type": "code",
      "source": [
        "#Example with integers\n",
        "a = 5\n",
        "b = a\n",
        "a = 10\n",
        "print(a)\n",
        "print(b)\n"
      ],
      "metadata": {
        "colab": {
          "base_uri": "https://localhost:8080/"
        },
        "id": "OKeTzVUAZyYJ",
        "outputId": "44968de5-6b17-4028-c7e7-308d37f6d07f"
      },
      "execution_count": 16,
      "outputs": [
        {
          "output_type": "stream",
          "name": "stdout",
          "text": [
            "10\n",
            "5\n"
          ]
        }
      ]
    },
    {
      "cell_type": "code",
      "source": [
        "#Example with string\n",
        "name = \"Satya sheel\"\n",
        "greeting = \"Hello, \" + name\n",
        "name = \"Sushar Sangh\"\n",
        "print(name)\n",
        "print(greeting)\n"
      ],
      "metadata": {
        "colab": {
          "base_uri": "https://localhost:8080/"
        },
        "id": "pEwGgqHvaqeB",
        "outputId": "90d4fe98-08cd-48fb-c0a1-68ddd44cfac7"
      },
      "execution_count": 17,
      "outputs": [
        {
          "output_type": "stream",
          "name": "stdout",
          "text": [
            "Sushar Sangh\n",
            "Hello, Satya sheel\n"
          ]
        }
      ]
    },
    {
      "cell_type": "markdown",
      "source": [
        "Mutable Data Types:\n",
        "\n",
        "Mutable objects are those whose value can be modified after they are created.\n",
        "Modifying a mutable object directly changes its value without creating a new object.\n",
        "Examples of mutable data types in Python include lists, dictionaries, and sets."
      ],
      "metadata": {
        "id": "zUbUGq8ibLAM"
      }
    },
    {
      "cell_type": "code",
      "source": [
        "#Example with list\n",
        "numbers = [1, 2, 3, 4]\n",
        "numbers[0] = 10\n",
        "print(numbers)\n"
      ],
      "metadata": {
        "colab": {
          "base_uri": "https://localhost:8080/"
        },
        "id": "cArkNRCsbCML",
        "outputId": "ee4a8efe-5276-4b36-8a42-aed4e5512c0f"
      },
      "execution_count": 18,
      "outputs": [
        {
          "output_type": "stream",
          "name": "stdout",
          "text": [
            "[10, 2, 3, 4]\n"
          ]
        }
      ]
    },
    {
      "cell_type": "code",
      "source": [
        "#Examplen with dictionaries\n",
        "person = {\"name\": \"John\", \"age\": 30}\n",
        "person[\"age\"] = 35\n",
        "print(person)\n"
      ],
      "metadata": {
        "colab": {
          "base_uri": "https://localhost:8080/"
        },
        "id": "GG9XT8JsbYsL",
        "outputId": "77ce4fbc-9d91-4cba-96e1-57be1debe97e"
      },
      "execution_count": 19,
      "outputs": [
        {
          "output_type": "stream",
          "name": "stdout",
          "text": [
            "{'name': 'John', 'age': 35}\n"
          ]
        }
      ]
    },
    {
      "cell_type": "markdown",
      "source": [
        "##Q.9 Write a code to create the given structure using only for loop.\n",
        "#*\n",
        "\n",
        "#* * *\n",
        "\n",
        "#* * * * *\n",
        "\n",
        "#* * * * * * * *\n",
        "\n",
        "#* * * *  * * * * *"
      ],
      "metadata": {
        "id": "mopyFmTtboiZ"
      }
    },
    {
      "cell_type": "code",
      "source": [
        "rows = 5\n",
        "\n",
        "for i in range(1, rows + 1):\n",
        "    for j in range(1, 2 * i):\n",
        "        print(\"*\", end=\" \")\n",
        "    print()\n",
        "\n"
      ],
      "metadata": {
        "colab": {
          "base_uri": "https://localhost:8080/"
        },
        "id": "CdRdgRmJblCI",
        "outputId": "8832d1d8-a7af-4e7e-9491-08c918580a5b"
      },
      "execution_count": 24,
      "outputs": [
        {
          "output_type": "stream",
          "name": "stdout",
          "text": [
            "* \n",
            "* * * \n",
            "* * * * * \n",
            "* * * * * * * \n",
            "* * * * * * * * * \n"
          ]
        }
      ]
    },
    {
      "cell_type": "markdown",
      "source": [
        "##Q.10. Write a code to create the given structure using while loop.\n",
        "| | | | | | | | |\n",
        "\n",
        "| | | | | | |\n",
        "\n",
        "| | | | |\n",
        "\n",
        "| | |\n",
        "\n",
        "|"
      ],
      "metadata": {
        "id": "6j2AGKU4dWOQ"
      }
    },
    {
      "cell_type": "code",
      "source": [
        "rows = 5\n",
        "i = rows\n",
        "\n",
        "while i >= 1:\n",
        "    j = 1\n",
        "    while j <= i:\n",
        "        print(\"| \", end=\"\")\n",
        "        j += 1\n",
        "    print()\n",
        "    i -= 1\n",
        "\n"
      ],
      "metadata": {
        "colab": {
          "base_uri": "https://localhost:8080/"
        },
        "id": "cVCZJx-bcaW2",
        "outputId": "5f62d1ae-4ccd-449a-bb34-bb9bec57c852"
      },
      "execution_count": 39,
      "outputs": [
        {
          "output_type": "stream",
          "name": "stdout",
          "text": [
            "| | | | | \n",
            "| | | | \n",
            "| | | \n",
            "| | \n",
            "| \n"
          ]
        }
      ]
    },
    {
      "cell_type": "code",
      "source": [],
      "metadata": {
        "id": "BrRciJbUdR1O"
      },
      "execution_count": null,
      "outputs": []
    }
  ]
}
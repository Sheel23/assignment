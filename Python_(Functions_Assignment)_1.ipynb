{
  "nbformat": 4,
  "nbformat_minor": 0,
  "metadata": {
    "colab": {
      "provenance": [],
      "authorship_tag": "ABX9TyOSvjWVRYrLYQjg5jrsanqO",
      "include_colab_link": true
    },
    "kernelspec": {
      "name": "python3",
      "display_name": "Python 3"
    },
    "language_info": {
      "name": "python"
    }
  },
  "cells": [
    {
      "cell_type": "markdown",
      "metadata": {
        "id": "view-in-github",
        "colab_type": "text"
      },
      "source": [
        "<a href=\"https://colab.research.google.com/github/Sheel23/assignment/blob/main/Python_(Functions_Assignment)_1.ipynb\" target=\"_parent\"><img src=\"https://colab.research.google.com/assets/colab-badge.svg\" alt=\"Open In Colab\"/></a>"
      ]
    },
    {
      "cell_type": "markdown",
      "source": [
        "##Q.1. In Python, what is the difference between a built-in function and a user-defined function? Provide an example of each.\n",
        "\n",
        "Built-in Function:\n",
        "\n",
        "Built-in functions are pre-defined functions that are provided as part of the Python programming language.\n",
        "These functions are readily available and can be used directly without requiring any additional code or defining them explicitly.\n",
        "Built-in functions cover a wide range of functionalities, including mathematical operations, string manipulation, file handling, etc.\n",
        "Examples of built-in functions include print(), len(), max(), min(), abs(), sum(), str(), type(), etc.\n",
        "\n",
        "User-defined Function:\n",
        "\n",
        "User-defined functions are functions created by users or developers to perform specific tasks or implement custom functionality.\n",
        "These functions are defined by the users themselves by writing the necessary code and logic to accomplish a particular task.\n",
        "User-defined functions can be reused multiple times in a program by calling them wherever needed.\n",
        "Examples of user-defined functions include functions created to calculate the area of a circle, perform data manipulation, implement specific algorithms, etc."
      ],
      "metadata": {
        "id": "bjJ4i1numqBW"
      }
    },
    {
      "cell_type": "code",
      "execution_count": 2,
      "metadata": {
        "colab": {
          "base_uri": "https://localhost:8080/"
        },
        "id": "IyqP5bg_ma_D",
        "outputId": "2e91b908-7652-44eb-89a1-2ea4faf2d0d5"
      },
      "outputs": [
        {
          "output_type": "stream",
          "name": "stdout",
          "text": [
            "5\n"
          ]
        }
      ],
      "source": [
        "# Using a built-in function\n",
        "my_list = [1, 2, 3, 4, 5]\n",
        "length = len(my_list)\n",
        "print(length)"
      ]
    },
    {
      "cell_type": "code",
      "source": [
        "# Creating a user-defined function\n",
        "def calculate_area(radius):\n",
        "    area = 3.14 * radius ** 2\n",
        "    return area\n",
        "\n",
        "# Using the user-defined function\n",
        "circle_radius = 5\n",
        "circle_area = calculate_area(circle_radius)\n",
        "print(circle_area)\n"
      ],
      "metadata": {
        "colab": {
          "base_uri": "https://localhost:8080/"
        },
        "id": "9-Gj8i09nE6b",
        "outputId": "ac783740-454e-4287-c7a5-041243784800"
      },
      "execution_count": 3,
      "outputs": [
        {
          "output_type": "stream",
          "name": "stdout",
          "text": [
            "78.5\n"
          ]
        }
      ]
    },
    {
      "cell_type": "markdown",
      "source": [
        "##Q.2. How can you pass arguments to a function in Python? Explain the difference between positional arguments and keyword arguments.\n",
        "\n",
        "Positional Arguments:\n",
        "\n",
        "Positional arguments are passed to a function based on their position or order.\n",
        "The arguments are matched to the function parameters based on their respective positions.\n",
        "The number of arguments passed must match the number of parameters defined in the function.\n",
        "The order of the arguments is crucial, as they are assigned to the parameters in the order of appearance.\n",
        "\n",
        "Keyword Arguments:\n",
        "\n",
        "Keyword arguments are passed to a function using the parameter names as keywords.\n",
        "Instead of relying on the order, keyword arguments are explicitly assigned to specific parameters using their names.\n",
        "This approach allows for flexibility and makes the code more readable, especially when dealing with functions that have a large number of parameters.\n",
        "The order of keyword arguments does not matter."
      ],
      "metadata": {
        "id": "u341TQWmnjBc"
      }
    },
    {
      "cell_type": "code",
      "source": [
        "#Example of positional arguments\n",
        "def greet(name, age):\n",
        "    print(\"Hello\", name, \"you are\", age, \"years old.\")\n",
        "\n",
        "# Passing positional arguments\n",
        "greet(\"satya sheel\", 25)\n"
      ],
      "metadata": {
        "colab": {
          "base_uri": "https://localhost:8080/"
        },
        "id": "8xVPzKsanU1p",
        "outputId": "30b03c58-6c16-4b85-eee0-0374b4fe86ea"
      },
      "execution_count": 6,
      "outputs": [
        {
          "output_type": "stream",
          "name": "stdout",
          "text": [
            "Hello satya sheel you are 25 years old.\n"
          ]
        }
      ]
    },
    {
      "cell_type": "code",
      "source": [
        "#Example of Keyword Arguments\n",
        "def greet(name, age):\n",
        "    print(\"Hello\", name, \"you are\", age, \"years old.\")\n",
        "\n",
        "# Passing keyword arguments\n",
        "greet(age=30, name=\"Satya Sheel\")\n"
      ],
      "metadata": {
        "colab": {
          "base_uri": "https://localhost:8080/"
        },
        "id": "WoZJ2n_jn8M_",
        "outputId": "8a664e9f-4159-46ec-e324-663ee8ec5268"
      },
      "execution_count": 7,
      "outputs": [
        {
          "output_type": "stream",
          "name": "stdout",
          "text": [
            "Hello Satya Sheel you are 30 years old.\n"
          ]
        }
      ]
    },
    {
      "cell_type": "markdown",
      "source": [
        "##Q.3. What is the purpose of the return statement in a function? Can a function have multiple return statements? Explain with an example.\n",
        "\n",
        "The return statement in a function serves the purpose of terminating the function's execution and returning a value (or values) back to the caller. It allows a function to provide the result of its computation or any other relevant data to the calling code.\n",
        "\n",
        "The return statement can also be used to exit a function prematurely if needed. When the return statement is encountered, the function execution stops, and the control is transferred back to the calling code.\n",
        "\n",
        "A function can have multiple return statements, but only one return statement is executed during the function's execution. Once a return statement is encountered, the function immediately exits, and the value specified in the return statement is returned to the caller."
      ],
      "metadata": {
        "id": "esNi8ptXoeZA"
      }
    },
    {
      "cell_type": "code",
      "source": [
        "def check_even_odd(number):\n",
        "    if number % 2 == 0:\n",
        "        return \"Even\"\n",
        "    else:\n",
        "        return \"Odd\"\n",
        "\n",
        "# Function call\n",
        "result = check_even_odd(7)\n",
        "print(result)\n"
      ],
      "metadata": {
        "colab": {
          "base_uri": "https://localhost:8080/"
        },
        "id": "BUMLwB3FoTV7",
        "outputId": "50a42012-dd11-479c-9356-c95adf051b87"
      },
      "execution_count": 8,
      "outputs": [
        {
          "output_type": "stream",
          "name": "stdout",
          "text": [
            "Odd\n"
          ]
        }
      ]
    },
    {
      "cell_type": "markdown",
      "source": [
        "##Q.4. What are lambda functions in Python? How are they different from regular functions? Provide an example where a lambda function can be useful.\n",
        "\n",
        "In Python, lambda functions, also known as anonymous functions, are small, single-line functions that don't require a formal definition using the def keyword. Lambda functions are defined using the lambda keyword followed by a list of arguments, a colon (:), and an expression.\n",
        "\n",
        "Lambda functions are different from regular functions in a few key ways:\n",
        "\n",
        "Syntax: Lambda functions have a compact syntax that allows them to be defined in a single line. They are typically used for simple, one-time operations and don't require the structure of a regular function with a name, def keyword, and explicit return statement.\n",
        "\n",
        "Nameless: Lambda functions are anonymous, meaning they don't have a name associated with them. They are primarily used where a function is needed temporarily or as an argument to another function.\n",
        "\n",
        "Expression-Based: Lambda functions are limited to a single expression, which is evaluated and returned as the result. They cannot contain multiple statements or complex control flow."
      ],
      "metadata": {
        "id": "I2K6ebbUo9wk"
      }
    },
    {
      "cell_type": "code",
      "source": [
        "# Using a lambda function to sort a list of tuples based on a specific element\n",
        "students = [('Mohd Sameer Mansoori', 25), ('Sanjeev Singh', 20), ('Kshitij', 22), ('Sandeep', 19)]\n",
        "sorted_students = sorted(students, key=lambda x: x[1])  # Sort based on the second element of each tuple\n",
        "\n",
        "print(sorted_students)\n"
      ],
      "metadata": {
        "colab": {
          "base_uri": "https://localhost:8080/"
        },
        "id": "sKUu1qP4o3An",
        "outputId": "567f6709-273b-42ee-c9c7-ead50c388b96"
      },
      "execution_count": 10,
      "outputs": [
        {
          "output_type": "stream",
          "name": "stdout",
          "text": [
            "[('Sandeep', 19), ('Sanjeev Singh', 20), ('Kshitij', 22), ('Mohd Sameer Mansoori', 25)]\n"
          ]
        }
      ]
    },
    {
      "cell_type": "markdown",
      "source": [
        "##Q.5. How does the concept of \"scope\" apply to functions in Python? Explain the difference between local scope and global scope.\n",
        "\n",
        "Local Scope:\n",
        "\n",
        "Local scope refers to the scope within a function or a code block.\n",
        "Variables defined within a function or code block have local scope, which means they are only accessible within that specific function or block.\n",
        "Local variables are created when the function is called and are destroyed when the function finishes executing.\n",
        "Local variables cannot be accessed outside the function or code block in which they are defined.\n",
        "\n",
        "Global Scope:\n",
        "\n",
        "Global scope refers to the scope outside of any function or code block.\n",
        "Variables defined outside of any function or code block have global scope, which means they are accessible throughout the entire program.\n",
        "Global variables can be accessed and modified by any part of the program, including functions."
      ],
      "metadata": {
        "id": "upNpMabgpvIM"
      }
    },
    {
      "cell_type": "code",
      "source": [
        "#Example of Local Scope\n",
        "def my_function():\n",
        "    x = 10\n",
        "    print(x)  # Accessible within the function\n",
        "\n",
        "my_function()\n",
        "print(x)  # Error: NameError: name 'x' is not defined\n",
        "\n",
        "#In the above example, the variable x is defined within the function my_function().\n",
        "#It has local scope and is accessible only within the function. If we try to access x outside the function,\n",
        "# we will get a NameError because the variable is not defined in the global scope\n"
      ],
      "metadata": {
        "colab": {
          "base_uri": "https://localhost:8080/",
          "height": 252
        },
        "id": "Agk0IObrpPJb",
        "outputId": "8a83263e-ff14-4cec-e6cf-dbb3790755f8"
      },
      "execution_count": 14,
      "outputs": [
        {
          "output_type": "stream",
          "name": "stdout",
          "text": [
            "10\n"
          ]
        },
        {
          "output_type": "error",
          "ename": "NameError",
          "evalue": "ignored",
          "traceback": [
            "\u001b[0;31m---------------------------------------------------------------------------\u001b[0m",
            "\u001b[0;31mNameError\u001b[0m                                 Traceback (most recent call last)",
            "\u001b[0;32m<ipython-input-14-7b678d24323e>\u001b[0m in \u001b[0;36m<cell line: 7>\u001b[0;34m()\u001b[0m\n\u001b[1;32m      5\u001b[0m \u001b[0;34m\u001b[0m\u001b[0m\n\u001b[1;32m      6\u001b[0m \u001b[0mmy_function\u001b[0m\u001b[0;34m(\u001b[0m\u001b[0;34m)\u001b[0m\u001b[0;34m\u001b[0m\u001b[0;34m\u001b[0m\u001b[0m\n\u001b[0;32m----> 7\u001b[0;31m \u001b[0mprint\u001b[0m\u001b[0;34m(\u001b[0m\u001b[0mx\u001b[0m\u001b[0;34m)\u001b[0m  \u001b[0;31m# Error: NameError: name 'x' is not defined\u001b[0m\u001b[0;34m\u001b[0m\u001b[0;34m\u001b[0m\u001b[0m\n\u001b[0m\u001b[1;32m      8\u001b[0m \u001b[0;34m\u001b[0m\u001b[0m\n\u001b[1;32m      9\u001b[0m \u001b[0;31m#In the above example, the variable x is defined within the function my_function().\u001b[0m\u001b[0;34m\u001b[0m\u001b[0;34m\u001b[0m\u001b[0m\n",
            "\u001b[0;31mNameError\u001b[0m: name 'x' is not defined"
          ]
        }
      ]
    },
    {
      "cell_type": "code",
      "source": [
        "#Example of Global Scope\n",
        "x = 10  # Global variable\n",
        "\n",
        "def my_function():\n",
        "    print(x)  # Accessible within the function\n",
        "\n",
        "my_function()\n",
        "print(x)  # Accessible outside the function\n"
      ],
      "metadata": {
        "colab": {
          "base_uri": "https://localhost:8080/"
        },
        "id": "_VP8aL4XqHB_",
        "outputId": "fddb67db-a7a7-48f0-d4e3-3e6384f3f9b8"
      },
      "execution_count": 15,
      "outputs": [
        {
          "output_type": "stream",
          "name": "stdout",
          "text": [
            "10\n",
            "10\n"
          ]
        }
      ]
    },
    {
      "cell_type": "markdown",
      "source": [
        "##Q.6. How can you use the \"return\" statement in a Python function to return multiple values?\n",
        "\n",
        "In Python, the return statement in a function can be used to return multiple values by packing them into a data structure such as a tuple, list, or dictionary. Here are a few approaches to return multiple values from a function:\n",
        "\n",
        "Using a Tuple:\n",
        "\n",
        "You can return multiple values as a tuple, and the calling code can unpack the returned tuple to access individual values.\n",
        "\n",
        "Using a List:\n",
        "\n",
        "Similar to tuples, you can return multiple values as a list and unpack the list in the calling code.\n",
        "\n",
        "Using a Dictionary:\n",
        "\n",
        "You can return multiple values as a dictionary where each value is associated with a specific key."
      ],
      "metadata": {
        "id": "qtiJmpmVrDFb"
      }
    },
    {
      "cell_type": "code",
      "source": [
        "#Example of Using a Tuple\n",
        "def get_values():\n",
        "    x = 10\n",
        "    y = 20\n",
        "    return x, y\n",
        "\n",
        "result = get_values()\n",
        "print(result)\n",
        "x_val, y_val = result\n",
        "print(x_val)\n",
        "print(y_val)\n"
      ],
      "metadata": {
        "colab": {
          "base_uri": "https://localhost:8080/"
        },
        "id": "qEdxiDkdqzs4",
        "outputId": "9e352e20-2ca5-4cad-807d-ba1ef991dade"
      },
      "execution_count": 16,
      "outputs": [
        {
          "output_type": "stream",
          "name": "stdout",
          "text": [
            "(10, 20)\n",
            "10\n",
            "20\n"
          ]
        }
      ]
    },
    {
      "cell_type": "code",
      "source": [
        "#Example of Using a List\n",
        "def get_values():\n",
        "    x = 10\n",
        "    y = 20\n",
        "    return [x, y]\n",
        "\n",
        "result = get_values()\n",
        "print(result)\n",
        "x_val, y_val = result\n",
        "print(x_val)\n",
        "print(y_val)\n"
      ],
      "metadata": {
        "colab": {
          "base_uri": "https://localhost:8080/"
        },
        "id": "DbFDkVhNrfMT",
        "outputId": "efae656c-986f-4c20-8041-1d38734b4674"
      },
      "execution_count": 17,
      "outputs": [
        {
          "output_type": "stream",
          "name": "stdout",
          "text": [
            "[10, 20]\n",
            "10\n",
            "20\n"
          ]
        }
      ]
    },
    {
      "cell_type": "code",
      "source": [
        "#Example of Using a Dictionary\n",
        "def get_values():\n",
        "    x = 10\n",
        "    y = 20\n",
        "    return {'x': x, 'y': y}\n",
        "\n",
        "result = get_values()\n",
        "print(result)\n",
        "x_val = result['x']\n",
        "y_val = result['y']\n",
        "print(x_val)\n",
        "print(y_val)\n"
      ],
      "metadata": {
        "colab": {
          "base_uri": "https://localhost:8080/"
        },
        "id": "CLPMHZPRroKE",
        "outputId": "8e7142da-b7f6-40c4-dc8e-9264b66b81be"
      },
      "execution_count": 18,
      "outputs": [
        {
          "output_type": "stream",
          "name": "stdout",
          "text": [
            "{'x': 10, 'y': 20}\n",
            "10\n",
            "20\n"
          ]
        }
      ]
    },
    {
      "cell_type": "markdown",
      "source": [
        "##Q.7. What is the difference between the \"pass by value\" and \"pass by reference\" concepts when it comes to function arguments in Python?\n",
        "\n",
        "In Python, the concept of \"pass by value\" and \"pass by reference\" is often a source of confusion because the behavior depends on the type of the argument being passed to a function. In general, Python uses a mechanism called \"pass by object reference.\"\n",
        "\n",
        "Pass by Value:\n",
        "\n",
        "In pass by value, a copy of the value of the variable is passed to the function. Any modifications made to the parameter inside the function do not affect the original variable in the calling code.\n",
        "Pass by value is typically associated with immutable data types like numbers, strings, and tuples in Python.\n",
        "\n",
        "Pass by Reference:\n",
        "\n",
        "In pass by reference, a reference to the original variable is passed to the function. Any modifications made to the parameter inside the function will affect the original variable in the calling code.\n",
        "Pass by reference is typically associated with mutable data types like lists and dictionaries in Python."
      ],
      "metadata": {
        "id": "VkD0Yhjhr-Nq"
      }
    },
    {
      "cell_type": "code",
      "source": [
        "# Example of Pass by Value\n",
        "def update_value(x):\n",
        "    x += 10  # Modifying the parameter\n",
        "    print(x)\n",
        "\n",
        "value = 10\n",
        "update_value(value)\n",
        "print(value)\n"
      ],
      "metadata": {
        "colab": {
          "base_uri": "https://localhost:8080/"
        },
        "id": "sCusZvd-rz-n",
        "outputId": "e5ba1393-03b4-4a75-a370-e3a0e7dc7dea"
      },
      "execution_count": 19,
      "outputs": [
        {
          "output_type": "stream",
          "name": "stdout",
          "text": [
            "20\n",
            "10\n"
          ]
        }
      ]
    },
    {
      "cell_type": "code",
      "source": [
        "# Example of Pass by Reference\n",
        "def update_list(lst):\n",
        "    lst.append(4)  # Modifying the parameter\n",
        "    print(lst)\n",
        "\n",
        "my_list = [1, 2, 3]\n",
        "update_list(my_list)\n",
        "print(my_list)\n"
      ],
      "metadata": {
        "colab": {
          "base_uri": "https://localhost:8080/"
        },
        "id": "v0SRQUR5sXP-",
        "outputId": "bf21bc09-cd07-45ce-92b9-6d995417757a"
      },
      "execution_count": 20,
      "outputs": [
        {
          "output_type": "stream",
          "name": "stdout",
          "text": [
            "[1, 2, 3, 4]\n",
            "[1, 2, 3, 4]\n"
          ]
        }
      ]
    },
    {
      "cell_type": "markdown",
      "source": [
        "##Q.8. Create a function that can intake integer or decimal value and do following operations:\n",
        "a. Logarithmic function (log x)\n",
        "\n",
        "b. Exponential function (exp(x))\n",
        "\n",
        "c. Power function with base 2 (2^x)\n",
        "\n",
        "d. Square root"
      ],
      "metadata": {
        "id": "FRMY77Mlsm2C"
      }
    },
    {
      "cell_type": "code",
      "source": [
        "import math\n",
        "\n",
        "def perform_operations(x):\n",
        "    # Logarithmic function (log x)\n",
        "    log_result = math.log(x)\n",
        "\n",
        "    # Exponential function (exp(x))\n",
        "    exp_result = math.exp(x)\n",
        "\n",
        "    # Power function with base 2 (2^x)\n",
        "    power_result = math.pow(2, x)\n",
        "\n",
        "    # Square root\n",
        "    sqrt_result = math.sqrt(x)\n",
        "\n",
        "    return log_result, exp_result, power_result, sqrt_result\n"
      ],
      "metadata": {
        "id": "jYt8ItwEsioe"
      },
      "execution_count": 21,
      "outputs": []
    },
    {
      "cell_type": "code",
      "source": [
        "result = perform_operations(4.5)\n",
        "print(f\"Logarithmic function: {result[0]}\")\n",
        "print(f\"Exponential function: {result[1]}\")\n",
        "print(f\"Power function with base 2: {result[2]}\")\n",
        "print(f\"Square root: {result[3]}\")\n"
      ],
      "metadata": {
        "colab": {
          "base_uri": "https://localhost:8080/"
        },
        "id": "BaCBNue7vIN7",
        "outputId": "26590e16-1b04-4948-d41f-e048ca6063ed"
      },
      "execution_count": 22,
      "outputs": [
        {
          "output_type": "stream",
          "name": "stdout",
          "text": [
            "Logarithmic function: 1.5040773967762742\n",
            "Exponential function: 90.01713130052181\n",
            "Power function with base 2: 22.627416997969522\n",
            "Square root: 2.1213203435596424\n"
          ]
        }
      ]
    },
    {
      "cell_type": "markdown",
      "source": [
        "##Q.9. Create a function that takes a full name as an argument and returns first name and last name.\n",
        "\n"
      ],
      "metadata": {
        "id": "3A0DetBWvyXZ"
      }
    },
    {
      "cell_type": "code",
      "source": [
        "def get_first_last_name(full_name):\n",
        "    names = full_name.split()\n",
        "    first_name = names[0]\n",
        "    last_name = names[-1]\n",
        "    return first_name, last_name\n"
      ],
      "metadata": {
        "id": "VipTqAAhvM5k"
      },
      "execution_count": 23,
      "outputs": []
    },
    {
      "cell_type": "code",
      "source": [
        "full_name = \"SATYA SHEEL\"\n",
        "first_name, last_name = get_first_last_name(full_name)\n",
        "print(\"First Name:\", first_name)\n",
        "print(\"Last Name:\", last_name)\n"
      ],
      "metadata": {
        "colab": {
          "base_uri": "https://localhost:8080/"
        },
        "id": "oecLes9Fv-0y",
        "outputId": "b2ac64a0-3b35-4167-8d8b-fce462033dd3"
      },
      "execution_count": 24,
      "outputs": [
        {
          "output_type": "stream",
          "name": "stdout",
          "text": [
            "First Name: SATYA\n",
            "Last Name: SHEEL\n"
          ]
        }
      ]
    },
    {
      "cell_type": "code",
      "source": [],
      "metadata": {
        "id": "pgc9vfbIwFIS"
      },
      "execution_count": null,
      "outputs": []
    }
  ]
}